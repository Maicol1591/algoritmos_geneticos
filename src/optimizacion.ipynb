{
 "cells": [
  {
   "cell_type": "code",
   "execution_count": 6,
   "metadata": {},
   "outputs": [],
   "source": [
    "%load_ext autoreload\n",
    "%autoreload 2"
   ]
  },
  {
   "cell_type": "code",
   "execution_count": 10,
   "metadata": {},
   "outputs": [],
   "source": [
    "import Geneticos as gen\n",
    "import Graficos as grf\n",
    "import numpy as np\n",
    "import pandas as pd\n",
    "import itertools\n",
    "import plotly\n",
    "import optuna\n",
    "import pickle\n",
    "from Hyperparameters import GeneticAlgorithmOptimizer\n",
    "from scipy.spatial.distance import pdist, squareform\n",
    "from optuna.visualization import plot_optimization_history, plot_param_importances"
   ]
  },
  {
   "cell_type": "markdown",
   "metadata": {},
   "source": [
    "### DEFINIENDO PARAMETROS DEL PROBLEMA"
   ]
  },
  {
   "cell_type": "code",
   "execution_count": 8,
   "metadata": {},
   "outputs": [],
   "source": [
    "cantidad_ciudades = 100\n",
    "gen.coordenadas_ciudades = [[0.21954616, 0.14581329],\n",
    "                            [0.17421578, 0.18566283],\n",
    "                            [0.29122291, 0.80457042],\n",
    "                            [0.18040537, 0.80267858],\n",
    "                            [0.3412426, 0.41644281],\n",
    "                            [0.58179122, 0.49474069],\n",
    "                            [0.67356906, 0.75094227],\n",
    "                            [0.88793601, 0.47142495],\n",
    "                            [0.00779237, 0.53205174],\n",
    "                            [0.36181121, 0.58683286],\n",
    "                            [0.01003692, 0.85785187],\n",
    "                            [0.67929191, 0.24353308],\n",
    "                            [0.6065664, 0.70519311],\n",
    "                            [0.72948251, 0.43073781],\n",
    "                            [0.9607949, 0.54489034],\n",
    "                            [0.88817971, 0.07955406],\n",
    "                            [0.52557476, 0.4696241],\n",
    "                            [0.94650895, 0.03802156],\n",
    "                            [0.64501347, 0.77524301],\n",
    "                            [0.87601183, 0.78304364],\n",
    "                            [0.36018579, 0.93557705],\n",
    "                            [0.89366112, 0.60359089],\n",
    "                            [0.97601195, 0.85817543],\n",
    "                            [0.26127822, 0.71608585],\n",
    "                            [0.90879018, 0.58434009],\n",
    "                            [0.91013166, 0.12334488],\n",
    "                            [0.91736713, 0.23586366],\n",
    "                            [0.13667125, 0.00201317],\n",
    "                            [0.94980787, 0.4336497],\n",
    "                            [0.2038939, 0.93308361],\n",
    "                            [0.83826848, 0.41281027],\n",
    "                            [0.32066564, 0.49212394],\n",
    "                            [0.14341033, 0.91744724],\n",
    "                            [0.69439039, 0.58776669],\n",
    "                            [0.7831435, 0.05133785],\n",
    "                            [0.99532546, 0.77610824],\n",
    "                            [0.48295153, 0.57015342],\n",
    "                            [0.93819732, 0.79385582],\n",
    "                            [0.29426788, 0.64406639],\n",
    "                            [0.26814418, 0.23473205],\n",
    "                            [0.16670826, 0.685144],\n",
    "                            [0.60190034, 0.27357298],\n",
    "                            [0.65943488, 0.21823561],\n",
    "                            [0.09769489, 0.8826959],\n",
    "                            [0.66464977, 0.86631929],\n",
    "                            [0.3814482, 0.94021531],\n",
    "                            [0.09677459, 0.10593996],\n",
    "                            [0.17864128, 0.62865786],\n",
    "                            [0.01510431, 0.44956381],\n",
    "                            [0.23513167, 0.41254368],\n",
    "                            [0.4549013, 0.01794302],\n",
    "                            [0.80061994, 0.39180504],\n",
    "                            [0.3417234, 0.37118961],\n",
    "                            [0.19172995, 0.43508706],\n",
    "                            [0.13512255, 0.99817623],\n",
    "                            [0.11329438, 0.90948516],\n",
    "                            [0.09481105, 0.52652043],\n",
    "                            [0.60478417, 0.57487087],\n",
    "                            [0.42949743, 0.35347706],\n",
    "                            [0.69048789, 0.1950799],\n",
    "                            [0.99041799, 0.45246021],\n",
    "                            [0.58163492, 0.80503285],\n",
    "                            [0.75869429, 0.66096662],\n",
    "                            [0.6583406, 0.87208508],\n",
    "                            [0.60404149, 0.32236654],\n",
    "                            [0.63871647, 0.03338515],\n",
    "                            [0.64207654, 0.20223676],\n",
    "                            [0.12276697, 0.68577585],\n",
    "                            [0.10845472, 0.84312461],\n",
    "                            [0.53897218, 0.30451347],\n",
    "                            [0.6133547, 0.02200327],\n",
    "                            [0.0488243, 0.28018404],\n",
    "                            [0.57981611, 0.23698127],\n",
    "                            [0.3168622, 0.5841623],\n",
    "                            [0.622078, 0.34672988],\n",
    "                            [0.26934929, 0.63440813],\n",
    "                            [0.90313144, 0.65774199],\n",
    "                            [0.12093674, 0.75562179],\n",
    "                            [0.08036233, 0.44383751],\n",
    "                            [0.10992283, 0.43391352],\n",
    "                            [0.08494473, 0.80382135],\n",
    "                            [0.49516912, 0.774868],\n",
    "                            [0.95936749, 0.2579975],\n",
    "                            [0.93321228, 0.88949077],\n",
    "                            [0.65689517, 0.02874112],\n",
    "                            [0.19149822, 0.53687667],\n",
    "                            [0.95414153, 0.91035188],\n",
    "                            [0.50068953, 0.03360075],\n",
    "                            [0.65037733, 0.63369655],\n",
    "                            [0.18609162, 0.74971852],\n",
    "                            [0.99697744, 0.22788147],\n",
    "                            [0.73286254, 0.02269668],\n",
    "                            [0.13865304, 0.58424392],\n",
    "                            [0.26217996, 0.45843858],\n",
    "                            [0.82195241, 0.4835036],\n",
    "                            [0.77293438, 0.88474862],\n",
    "                            [0.95244401, 0.80528087],\n",
    "                            [0.35954457, 0.03645583],\n",
    "                            [0.71485602, 0.81287991],\n",
    "                            [0.06654975, 0.81823839]]\n",
    "gen.matriz_tsp_distancias = squareform(pdist(gen.coordenadas_ciudades, 'euclidean'))"
   ]
  },
  {
   "cell_type": "code",
   "execution_count": 9,
   "metadata": {},
   "outputs": [
    {
     "name": "stderr",
     "output_type": "stream",
     "text": [
      "[I 2024-06-08 10:39:12,688] A new study created in memory with name: no-name-a29de388-cf58-4574-8a37-baa4956d33d1\n"
     ]
    },
    {
     "name": "stdout",
     "output_type": "stream",
     "text": [
      "Generation 0 | Best distance: 47.27647335331075\n",
      "Generation 0 | Best distance: 45.330677512402325\n",
      "Generation 0 | Best distance: 48.747460801132526\n",
      "Generation 0 | Best distance: 47.34724437804884\n",
      "Generation 0 | Best distance: 47.89122653089209\n",
      "Generation 0 | Best distance: 46.02262987043481\n",
      "Generation 0 | Best distance: 47.69554289032097\n",
      "Generation 0 | Best distance: 46.55736470976538\n",
      "Generation 0 | Best distance: 48.20726506383873\n",
      "Generation 0 | Best distance: 48.106550363905804\n",
      "Generation 0 | Best distance: 48.88131954181969\n",
      "Generation 0 | Best distance: 49.42524682055848\n",
      "Generation 0 | Best distance: 48.336873912946125\n",
      "Generation 0 | Best distance: 48.30722694869717\n",
      "Generation 0 | Best distance: 48.97442887291188\n",
      "Generation 0 | Best distance: 44.93843785392909\n",
      "Generation 0 | Best distance: 48.712018470852364\n",
      "Generation 0 | Best distance: 45.078256403095494\n",
      "Generation 0 | Best distance: 47.97950603209865\n",
      "Generation 0 | Best distance: 46.38389068496826\n",
      "Generation 0 | Best distance: 46.62469072679879\n",
      "Generation 0 | Best distance: 46.386333519289195\n",
      "Generation 0 | Best distance: 47.73509001341296\n",
      "Generation 0 | Best distance: 47.71284876274022\n",
      "Generation 100 | Best distance: 29.50043314115606\n",
      "Generation 100 | Best distance: 27.511933714886133\n",
      "Generation 100 | Best distance: 26.972129777658044\n",
      "Generation 100 | Best distance: 32.22922207663738\n",
      "Generation 100 | Best distance: 30.248823960718806\n",
      "Generation 100 | Best distance: 26.019851116243856\n",
      "Generation 100 | Best distance: 28.419655950859237\n",
      "Generation 100 | Best distance: 29.692303994119232\n",
      "Generation 100 | Best distance: 25.00189598450278\n",
      "Generation 100 | Best distance: 27.143335685657732\n",
      "Generation 100 | Best distance: 29.664803974263446\n",
      "Generation 100 | Best distance: 28.138621054198776\n",
      "Generation 100 | Best distance: 26.891526731890917\n",
      "Generation 100 | Best distance: 29.22996522128887\n",
      "Generation 100 | Best distance: 27.790946927790877\n",
      "Generation 100 | Best distance: 27.708530369258703\n",
      "Generation 100 | Best distance: 26.662657543312047\n",
      "Generation 100 | Best distance: 26.785377234470726\n",
      "Generation 100 | Best distance: 27.171194698852034\n",
      "Generation 100 | Best distance: 26.81259691198269\n",
      "Generation 200 | Best distance: 23.581443009231908\n",
      "Generation 100 | Best distance: 26.74401877540544\n",
      "Generation 200 | Best distance: 20.95730152407334\n",
      "Generation 100 | Best distance: 27.56112918076538\n",
      "Generation 200 | Best distance: 27.185722158032274\n",
      "Generation 200 | Best distance: 23.182478680239996\n",
      "Generation 100 | Best distance: 29.535824710613277\n",
      "Generation 100 | Best distance: 27.655790348073925\n",
      "Generation 200 | Best distance: 23.72092595557945\n",
      "Generation 200 | Best distance: 23.387775950173296\n",
      "Generation 200 | Best distance: 20.91308727789045\n",
      "Generation 200 | Best distance: 23.853941561129382\n",
      "Generation 200 | Best distance: 20.992919014350434\n",
      "Generation 300 | Best distance: 20.425768641371917\n",
      "Generation 200 | Best distance: 23.457628656839592\n",
      "Generation 300 | Best distance: 18.004626382715415\n",
      "Generation 200 | Best distance: 23.54805284859458\n",
      "Generation 200 | Best distance: 22.21439696965308\n",
      "Generation 300 | Best distance: 22.33648958080279\n",
      "Generation 300 | Best distance: 19.888460197626376\n",
      "Generation 200 | Best distance: 23.54986862971979\n",
      "Generation 200 | Best distance: 24.604237267854778\n",
      "Generation 200 | Best distance: 23.803427307748628\n",
      "Generation 200 | Best distance: 22.14744415604562\n",
      "Generation 200 | Best distance: 21.35495859940368\n",
      "Generation 200 | Best distance: 23.433189387868943\n",
      "Generation 300 | Best distance: 20.88908981953138\n",
      "Generation 300 | Best distance: 20.98958597218048\n",
      "Generation 200 | Best distance: 23.714338128506007\n",
      "Generation 400 | Best distance: 18.49006406600335\n",
      "Generation 200 | Best distance: 22.27037254433061\n",
      "Generation 200 | Best distance: 21.63722038609196\n",
      "Generation 300 | Best distance: 20.719293347864646\n",
      "Generation 400 | Best distance: 16.726024540001777\n",
      "Generation 300 | Best distance: 19.20862449294872\n",
      "Generation 300 | Best distance: 19.599384791043143\n",
      "Generation 200 | Best distance: 23.80487339060952\n",
      "Generation 400 | Best distance: 21.270220310246987\n",
      "Generation 300 | Best distance: 20.6763819346852\n",
      "Generation 400 | Best distance: 18.024161054875055\n",
      "Generation 200 | Best distance: 21.907384802477367\n",
      "Generation 300 | Best distance: 20.554089298790064\n",
      "Generation 500 | Best distance: 17.450452260724532\n",
      "Generation 200 | Best distance: 23.63530426004164\n",
      "Generation 300 | Best distance: 20.434858858723352\n",
      "Generation 400 | Best distance: 18.861267967521133\n",
      "Generation 500 | Best distance: 15.299745942729986\n",
      "Generation 400 | Best distance: 18.5321974147355\n",
      "Generation 300 | Best distance: 19.91849273773526\n",
      "Generation 300 | Best distance: 21.343997659390745\n",
      "Generation 300 | Best distance: 21.479163201480187\n",
      "Generation 400 | Best distance: 19.8700259211364\n",
      "Generation 300 | Best distance: 19.894726450837158\n",
      "Generation 400 | Best distance: 18.466397748808422\n",
      "Generation 300 | Best distance: 17.978007891141402\n",
      "Generation 400 | Best distance: 17.732690123666483\n",
      "Generation 300 | Best distance: 19.696961731332074\n",
      "Generation 500 | Best distance: 19.810022873470146\n",
      "Generation 500 | Best distance: 16.55774903596469\n",
      "Generation 300 | Best distance: 20.738348461061893\n",
      "Generation 600 | Best distance: 16.382178289357853\n",
      "Generation 300 | Best distance: 18.662278562826447\n",
      "Generation 400 | Best distance: 18.98175964430218\n",
      "Generation 600 | Best distance: 14.695891071344102\n",
      "Generation 300 | Best distance: 19.027314348148806\n",
      "Generation 500 | Best distance: 16.80993051862024\n",
      "Generation 400 | Best distance: 19.05349085779609\n",
      "Generation 500 | Best distance: 17.058910576268406\n",
      "Generation 500 | Best distance: 18.45237865477731\n",
      "Generation 400 | Best distance: 18.565506984714155\n",
      "Generation 300 | Best distance: 20.70556106711951\n",
      "Generation 700 | Best distance: 15.495755856326332\n",
      "Generation 600 | Best distance: 18.737504320805726\n",
      "Generation 500 | Best distance: 17.65183706991892\n",
      "Generation 600 | Best distance: 16.199169338980635\n",
      "Generation 400 | Best distance: 18.646435861797034\n",
      "Generation 400 | Best distance: 19.60291788075398\n",
      "Generation 500 | Best distance: 16.815072630095194\n",
      "Generation 400 | Best distance: 19.364589313584375\n",
      "Generation 300 | Best distance: 19.917301250693814\n",
      "Generation 700 | Best distance: 14.42660774393181\n",
      "Generation 400 | Best distance: 18.449531964009466\n",
      "Generation 400 | Best distance: 17.101042824703047\n",
      "Generation 400 | Best distance: 18.250229854724793\n",
      "Generation 300 | Best distance: 20.335140936373136\n",
      "Generation 600 | Best distance: 16.216296420553636\n",
      "Generation 500 | Best distance: 17.633974623601276\n",
      "Generation 400 | Best distance: 18.617426750248836\n",
      "Generation 800 | Best distance: 15.29564099408092\n",
      "Generation 600 | Best distance: 16.474136874564277\n",
      "Generation 400 | Best distance: 16.702627734456925\n",
      "Generation 600 | Best distance: 17.51276052881813\n",
      "Generation 700 | Best distance: 18.016597825300114\n",
      "Generation 500 | Best distance: 17.66363400961475\n",
      "Generation 700 | Best distance: 15.45429763532437\n",
      "Generation 800 | Best distance: 14.423599288996297\n",
      "Generation 600 | Best distance: 17.1901750134708\n",
      "Generation 500 | Best distance: 17.267358994222743\n",
      "Generation 600 | Best distance: 16.3551538177688\n",
      "Generation 400 | Best distance: 17.49234431173798\n",
      "Generation 500 | Best distance: 17.006114127191125\n",
      "Generation 500 | Best distance: 18.04832822540186\n",
      "Generation 900 | Best distance: 15.148667255055592\n",
      "Generation 700 | Best distance: 15.766882647652304\n",
      "Generation 500 | Best distance: 17.848638308228544\n",
      "Generation 400 | Best distance: 18.939380080169812\n",
      "Generation 700 | Best distance: 16.474136874564277\n",
      "Generation 600 | Best distance: 16.81248841296182\n",
      "Generation 500 | Best distance: 18.159128375562304\n",
      "Generation 800 | Best distance: 16.787334289682466\n",
      "Generation 500 | Best distance: 15.45468749864101\n",
      "Generation 800 | Best distance: 15.138436274678353\n",
      "Generation 900 | Best distance: 14.270925945413516\n",
      "Generation 500 | Best distance: 16.822750700480125\n",
      "Generation 700 | Best distance: 17.01754580925674\n",
      "Generation 400 | Best distance: 17.821067633173424\n",
      "Generation 700 | Best distance: 15.988889793499219\n",
      "Generation 500 | Best distance: 17.831581058159575\n",
      "Generation 600 | Best distance: 16.183719841540793\n",
      "Generation 1000 | Best distance: 14.915851182504468\n",
      "Generation 700 | Best distance: 15.250259479272279\n",
      "Generation 500 | Best distance: 15.3630616797667\n",
      "Generation 400 | Best distance: 19.307577676581193\n",
      "Generation 800 | Best distance: 15.175246323036204\n",
      "Generation 600 | Best distance: 16.382961830523353\n",
      "Generation 1000 | Best distance: 13.716034408691149\n",
      "Generation 900 | Best distance: 16.31630195671614\n",
      "Generation 900 | Best distance: 14.580776177506047\n",
      "Generation 800 | Best distance: 16.252038952192034\n",
      "Generation 600 | Best distance: 16.653705194782024\n",
      "Generation 600 | Best distance: 17.12347928026418\n",
      "Generation 600 | Best distance: 16.948735513436137\n",
      "Generation 1100 | Best distance: 14.71509094861634\n",
      "Generation 800 | Best distance: 16.121425848214535\n",
      "Generation 700 | Best distance: 16.17455302190824\n",
      "Generation 500 | Best distance: 17.155526725091857\n",
      "Generation 800 | Best distance: 15.188791167120273\n",
      "Generation 600 | Best distance: 17.668654162620648\n",
      "Generation 600 | Best distance: 14.276634973159757\n",
      "Generation 600 | Best distance: 16.22920887444718\n",
      "Generation 1100 | Best distance: 13.070186626488566\n",
      "Generation 500 | Best distance: 16.974598888532803\n",
      "Generation 700 | Best distance: 15.519582455100096\n",
      "Generation 900 | Best distance: 14.884180217795812\n",
      "Generation 800 | Best distance: 14.041612781454797\n",
      "Generation 1000 | Best distance: 16.222493624089086\n",
      "Generation 1000 | Best distance: 14.259088719784863\n",
      "Generation 600 | Best distance: 16.830272466672472\n",
      "Generation 1200 | Best distance: 14.71509094861634\n",
      "Generation 900 | Best distance: 15.85025064646332\n",
      "Generation 700 | Best distance: 15.786281149414256\n",
      "Generation 500 | Best distance: 16.5870268949367\n",
      "Generation 900 | Best distance: 15.617697255925888\n",
      "Generation 600 | Best distance: 14.631339286648663\n",
      "Generation 700 | Best distance: 16.341221783330557\n",
      "Generation 700 | Best distance: 16.75307413500767\n",
      "Generation 800 | Best distance: 15.193933415504425\n",
      "Generation 1200 | Best distance: 13.070186626488566\n",
      "Generation 900 | Best distance: 14.377714304142287\n",
      "Generation 700 | Best distance: 15.280849937930434\n",
      "Generation 1300 | Best distance: 14.28597148328908\n",
      "Generation 1100 | Best distance: 15.70407817407368\n",
      "Generation 1000 | Best distance: 14.45562279297778\n",
      "Generation 500 | Best distance: 18.56460109259392\n",
      "Generation 1100 | Best distance: 14.242540915972837\n",
      "Generation 900 | Best distance: 13.750166767433708\n",
      "Generation 700 | Best distance: 15.892605300119449\n",
      "Generation 700 | Best distance: 13.69589435916247\n",
      "Generation 800 | Best distance: 14.617727733939551\n",
      "Generation 700 | Best distance: 15.986079185037392\n",
      "Generation 1000 | Best distance: 15.17252922118915\n",
      "Generation 600 | Best distance: 16.579628622828693\n",
      "Generation 1000 | Best distance: 14.989640442996507\n",
      "Generation 1300 | Best distance: 12.929009934173198\n",
      "Generation 700 | Best distance: 16.55715582655545\n",
      "Generation 800 | Best distance: 14.775236753515886\n",
      "Generation 600 | Best distance: 16.574735908411277\n",
      "Generation 1400 | Best distance: 14.067700009455745\n",
      "Generation 1000 | Best distance: 14.377714304142287\n",
      "Generation 900 | Best distance: 14.59827054473385\n",
      "Generation 1200 | Best distance: 15.069812530587491\n",
      "Generation 1200 | Best distance: 14.039565362919143\n",
      "Generation 1100 | Best distance: 13.786537650167444\n",
      "Generation 800 | Best distance: 16.339514292861466\n",
      "Generation 800 | Best distance: 16.189766474057794\n",
      "Generation 700 | Best distance: 14.31913143409201\n",
      "Generation 800 | Best distance: 14.973498446257768\n",
      "Generation 1000 | Best distance: 13.750166767433708\n",
      "Generation 600 | Best distance: 16.205974138152243\n",
      "Generation 1100 | Best distance: 15.024628105009066\n",
      "Generation 1400 | Best distance: 12.929009934173198\n",
      "Generation 1500 | Best distance: 13.628634771874383\n",
      "Generation 900 | Best distance: 14.273475865118701\n",
      "Generation 1100 | Best distance: 14.863259758471939\n",
      "Generation 800 | Best distance: 13.46759752069352\n",
      "Generation 800 | Best distance: 14.047883716515996\n",
      "Generation 800 | Best distance: 15.208495884496696\n",
      "Generation 1300 | Best distance: 14.717255540387878\n",
      "Generation 1300 | Best distance: 13.882036912020247\n",
      "Generation 1100 | Best distance: 14.377714304142287\n",
      "Generation 1200 | Best distance: 13.591255538907195\n",
      "Generation 600 | Best distance: 17.486793367817935\n",
      "Generation 900 | Best distance: 14.06336015318202\n",
      "Generation 1000 | Best distance: 14.579972218194598\n",
      "Generation 800 | Best distance: 16.108654004146366\n",
      "Generation 1500 | Best distance: 12.929009934173198\n",
      "Generation 700 | Best distance: 15.312478598411051\n",
      "Generation 1600 | Best distance: 13.297421034438658\n",
      "Generation 900 | Best distance: 16.025013457094552\n",
      "Generation 900 | Best distance: 15.556235375541371\n",
      "Generation 1200 | Best distance: 14.642987328755593\n",
      "Generation 1100 | Best distance: 13.31198523732099\n",
      "Generation 700 | Best distance: 15.939276984691878\n",
      "Generation 900 | Best distance: 14.436162165493933\n",
      "Generation 1200 | Best distance: 14.326368019983141\n",
      "Generation 1400 | Best distance: 14.207619339854437\n",
      "Generation 800 | Best distance: 14.095345920937024\n",
      "Generation 1400 | Best distance: 13.765277429821841\n",
      "Generation 1000 | Best distance: 13.909328028905382\n",
      "Generation 1300 | Best distance: 13.511522195117555\n",
      "Generation 1600 | Best distance: 12.929009934173198\n",
      "Generation 1200 | Best distance: 14.345559561753142\n",
      "Generation 1700 | Best distance: 12.784778119272506\n",
      "Generation 900 | Best distance: 13.131730591046058\n",
      "Generation 900 | Best distance: 13.87328290057989\n",
      "Generation 900 | Best distance: 14.939790263826534\n",
      "Generation 700 | Best distance: 15.651772520685387\n",
      "Generation 1100 | Best distance: 14.572701649404971\n",
      "Generation 1000 | Best distance: 13.7974445709046\n",
      "Generation 1300 | Best distance: 14.274845205994952\n",
      "Generation 1500 | Best distance: 13.855272375977934\n",
      "Generation 1200 | Best distance: 13.133138753862402\n",
      "Generation 1300 | Best distance: 13.780799097201648\n",
      "Generation 900 | Best distance: 15.050962605074664\n",
      "Generation 1500 | Best distance: 13.544460324290874\n",
      "Generation 1000 | Best distance: 14.961721974470061\n",
      "Generation 1000 | Best distance: 15.58897673563375\n",
      "Generation 1800 | Best distance: 12.738610858927721\n",
      "Generation 1700 | Best distance: 12.929009934173198\n",
      "Generation 1400 | Best distance: 13.375825115841025\n",
      "Generation 1000 | Best distance: 14.021343452007685\n",
      "Generation 700 | Best distance: 16.682461492235806\n",
      "Generation 800 | Best distance: 14.946751206152083\n",
      "Generation 1100 | Best distance: 13.760186546273689\n",
      "Generation 1300 | Best distance: 14.310277205139151\n",
      "Generation 900 | Best distance: 13.613484145721097\n",
      "Generation 800 | Best distance: 14.881355691047917\n",
      "Generation 1600 | Best distance: 13.432448997347118\n",
      "Generation 1200 | Best distance: 13.62031438795728\n",
      "Generation 1400 | Best distance: 14.268713808402294\n",
      "Generation 1000 | Best distance: 12.91578837035543\n",
      "Generation 1000 | Best distance: 13.727282263198976\n",
      "Generation 1900 | Best distance: 12.635198322544102\n",
      "Generation 1600 | Best distance: 13.314758119256368\n",
      "Generation 1800 | Best distance: 12.866664894629617\n",
      "Generation 1000 | Best distance: 14.481211570923307\n",
      "Generation 1100 | Best distance: 13.547387824699474\n",
      "Generation 1300 | Best distance: 13.04640736811246\n",
      "Generation 1400 | Best distance: 13.529973276316898\n",
      "Generation 1500 | Best distance: 13.368192403415364\n",
      "Generation 800 | Best distance: 14.899098709987776\n",
      "Generation 1100 | Best distance: 14.485719822610097\n",
      "Generation 1100 | Best distance: 15.538355540590826\n",
      "Generation 1400 | Best distance: 13.966585494319501\n",
      "Generation 1000 | Best distance: 14.615859721795154\n",
      "Generation 2000 | Best distance: 12.531512106792496\n",
      "Generation 1200 | Best distance: 13.49370558065377\n",
      "Generation 1700 | Best distance: 13.329774862046115\n",
      "Generation 1100 | Best distance: 13.470431995174831\n",
      "Generation 1900 | Best distance: 12.845250403513315\n",
      "Generation 1500 | Best distance: 14.200809294876574\n",
      "Generation 1700 | Best distance: 13.091617062983309\n",
      "Generation 1300 | Best distance: 13.392655494179591\n",
      "Generation 1500 | Best distance: 13.172879936052304\n",
      "Generation 1000 | Best distance: 12.83728562219335\n",
      "Generation 900 | Best distance: 14.12287081528138\n",
      "Generation 1400 | Best distance: 12.883493914496915\n",
      "Generation 1600 | Best distance: 13.268040449890854\n",
      "Generation 1100 | Best distance: 12.712284895413102\n",
      "Generation 1100 | Best distance: 12.95543691847755\n",
      "Generation 1200 | Best distance: 12.843252637878726\n",
      "Generation 800 | Best distance: 16.415058542329447\n",
      "Generation 900 | Best distance: 14.627499206052807\n",
      "Generation 2100 | Best distance: 12.479498728009293\n",
      "Generation 1100 | Best distance: 14.073119804728881\n",
      "Generation 2000 | Best distance: 12.627043161949935\n",
      "Generation 1800 | Best distance: 12.930140055734153\n",
      "Generation 1500 | Best distance: 13.966585494319501\n",
      "Generation 1800 | Best distance: 13.091617062983309\n",
      "Generation 1200 | Best distance: 14.24403561856325\n",
      "Generation 1200 | Best distance: 15.346178187911654\n",
      "Generation 1600 | Best distance: 14.132259127947293\n",
      "Generation 1300 | Best distance: 13.413852584341216\n",
      "Generation 1100 | Best distance: 14.35984040910109\n",
      "Generation 1200 | Best distance: 13.401067066278468\n",
      "Generation 1600 | Best distance: 13.141818136194479\n",
      "Generation 2200 | Best distance: 12.479498728009293\n",
      "Generation 1400 | Best distance: 13.392655494179591\n",
      "Generation 1700 | Best distance: 12.72610377835848\n",
      "Generation 900 | Best distance: 14.698632883937805\n",
      "Generation 1500 | Best distance: 12.788705621476371\n",
      "Generation 2100 | Best distance: 12.516705254459644\n",
      "Generation 1900 | Best distance: 12.857746417754012\n",
      "Generation 1900 | Best distance: 13.058425668641183\n",
      "Generation 1600 | Best distance: 13.889677847987825\n",
      "Generation 1300 | Best distance: 12.38915394406747\n",
      "Generation 1100 | Best distance: 12.252775341349373\n",
      "Generation 1200 | Best distance: 12.663454869899574\n",
      "Generation 1200 | Best distance: 12.639771603769221\n",
      "Generation 1700 | Best distance: 14.057807434445392\n",
      "Generation 1200 | Best distance: 13.89354101815528\n",
      "Generation 2300 | Best distance: 12.202287709074392\n",
      "Generation 1000 | Best distance: 13.688148844920129\n",
      "Generation 1300 | Best distance: 13.84724800195686\n",
      "Generation 1300 | Best distance: 15.19618164663324\n",
      "Generation 1000 | Best distance: 14.627499206052807\n",
      "Generation 2200 | Best distance: 12.289998850492626\n",
      "Generation 1400 | Best distance: 13.393657969816365\n",
      "Generation 1700 | Best distance: 13.119711074007398\n",
      "Generation 1800 | Best distance: 12.342708646029536\n",
      "Generation 1500 | Best distance: 12.930165525413875\n",
      "Generation 900 | Best distance: 16.23737401065369\n",
      "Generation 2000 | Best distance: 12.767288368760184\n",
      "Generation 1600 | Best distance: 12.788705621476371\n",
      "Generation 1300 | Best distance: 13.3916287428288\n",
      "Generation 2000 | Best distance: 13.056977552208606\n",
      "Generation 1200 | Best distance: 14.08739727081459\n",
      "Generation 2400 | Best distance: 12.202287709074392\n",
      "Generation 1700 | Best distance: 13.889677847987825\n",
      "Generation 1800 | Best distance: 14.019934693085906\n",
      "Generation 2300 | Best distance: 12.286306796612244\n",
      "Generation 1400 | Best distance: 12.286126295437303\n",
      "Generation 1000 | Best distance: 13.99158162569743\n",
      "Generation 1300 | Best distance: 12.434798803728153\n",
      "Generation 1300 | Best distance: 12.580207082118102\n",
      "Generation 1900 | Best distance: 12.342708646029536\n",
      "Generation 1800 | Best distance: 12.997862417172886\n",
      "Generation 2100 | Best distance: 12.551674481553372\n",
      "Generation 1200 | Best distance: 11.628955909092832\n",
      "Generation 1300 | Best distance: 13.665104262604656\n",
      "Generation 2500 | Best distance: 12.177126753515058\n",
      "Generation 1500 | Best distance: 13.393657969816365\n",
      "Generation 2100 | Best distance: 13.056977552208606\n",
      "Generation 1400 | Best distance: 15.164809200389163\n",
      "Generation 1400 | Best distance: 13.25925843901807\n",
      "Generation 1600 | Best distance: 12.883380644089145\n",
      "Generation 1700 | Best distance: 12.376762333751405\n",
      "Generation 1100 | Best distance: 13.07104910505268\n",
      "Generation 2400 | Best distance: 12.207101059856104\n",
      "Generation 1800 | Best distance: 13.889677847987825\n",
      "Generation 1400 | Best distance: 13.254824754904197\n",
      "Generation 1100 | Best distance: 14.59519644779179\n",
      "Generation 1900 | Best distance: 13.993168983520759\n",
      "Generation 1300 | Best distance: 13.746702172863285\n",
      "Generation 2200 | Best distance: 12.354349025165003\n",
      "Generation 2600 | Best distance: 12.177126753515058\n",
      "Generation 2000 | Best distance: 12.315687878797721\n",
      "Generation 1900 | Best distance: 12.552255276313485\n",
      "Generation 1500 | Best distance: 12.196278807865552\n",
      "Generation 1000 | Best distance: 16.023852965380495\n",
      "Generation 2200 | Best distance: 13.056977552208606\n",
      "Generation 2500 | Best distance: 12.111286866066207\n",
      "Generation 1400 | Best distance: 12.258295509342544\n",
      "Generation 1400 | Best distance: 12.443471591863092\n",
      "Generation 1700 | Best distance: 12.883380644089145\n",
      "Generation 1800 | Best distance: 11.854785279241424\n",
      "Generation 1600 | Best distance: 13.248124828776891\n",
      "Generation 1400 | Best distance: 13.58963314781624\n",
      "Generation 1300 | Best distance: 11.604177950963773\n",
      "Generation 1500 | Best distance: 15.15180690549043\n",
      "Generation 1500 | Best distance: 13.169375087199606\n",
      "Generation 1900 | Best distance: 13.889677847987825\n",
      "Generation 2700 | Best distance: 12.177126753515058\n",
      "Generation 2000 | Best distance: 13.993168983520759\n",
      "Generation 1100 | Best distance: 13.548756195072405\n",
      "Generation 2300 | Best distance: 12.292611506541393\n",
      "Generation 2100 | Best distance: 12.315687878797721\n",
      "Generation 2300 | Best distance: 13.056977552208606\n",
      "Generation 1500 | Best distance: 13.176021502558166\n",
      "Generation 2000 | Best distance: 12.413085012631303\n",
      "Generation 2600 | Best distance: 12.102796003681753\n",
      "Generation 1200 | Best distance: 13.017628838317117\n",
      "Generation 1400 | Best distance: 13.484228632050547\n",
      "Generation 1600 | Best distance: 12.036434219488854\n",
      "Generation 1200 | Best distance: 14.29353105586095\n",
      "Generation 2800 | Best distance: 12.177126753515058\n",
      "Generation 1900 | Best distance: 11.854785279241424\n",
      "Generation 1800 | Best distance: 12.652663134142314\n",
      "Generation 2400 | Best distance: 12.28235944509215\n",
      "Generation 2000 | Best distance: 13.889677847987825\n",
      "Generation 1700 | Best distance: 13.061796681197357\n",
      "Generation 2100 | Best distance: 13.880224028564514\n",
      "Generation 1500 | Best distance: 12.217001386564021\n",
      "Generation 1500 | Best distance: 11.769422174723422\n",
      "Generation 2400 | Best distance: 12.834211810472361\n",
      "Generation 2200 | Best distance: 12.315687878797721\n",
      "Generation 2700 | Best distance: 11.976397001749543\n",
      "Generation 1600 | Best distance: 15.15180690549043\n",
      "Generation 1600 | Best distance: 12.813610304141914\n",
      "Generation 1500 | Best distance: 13.493138449255687\n",
      "Generation 1100 | Best distance: 14.98446032918702\n",
      "Generation 2100 | Best distance: 12.073488510696718\n",
      "Generation 1400 | Best distance: 11.480190686423622\n",
      "Generation 2900 | Best distance: 12.177126753515058\n",
      "Generation 1600 | Best distance: 13.009134389115085\n",
      "Generation 2500 | Best distance: 12.2765865295181\n",
      "Generation 1200 | Best distance: 13.051267289963699\n",
      "Generation 1700 | Best distance: 12.036434219488854\n",
      "Generation 2800 | Best distance: 11.976397001749543\n",
      "Generation 2000 | Best distance: 11.854785279241424\n",
      "Generation 2200 | Best distance: 13.71006000559334\n",
      "Generation 2100 | Best distance: 13.64706018352294\n",
      "Generation 2500 | Best distance: 12.554310651291141\n",
      "Generation 1500 | Best distance: 13.308288030782787\n",
      "Generation 1900 | Best distance: 12.497378735424848\n",
      "Generation 2300 | Best distance: 12.20076901062965\n",
      "Generation 3000 | Best distance: 12.177126753515058\n",
      "Generation 1800 | Best distance: 12.901869768495398\n",
      "Generation 1300 | Best distance: 13.017628838317117\n",
      "Generation 2200 | Best distance: 12.000211720605062\n",
      "Generation 1600 | Best distance: 12.046111243643306\n",
      "Generation 1300 | Best distance: 13.71448246633498\n",
      "Generation 1600 | Best distance: 11.690044863694599\n",
      "Generation 1700 | Best distance: 14.992071481924185\n",
      "Generation 1700 | Best distance: 12.754209265182904\n",
      "Generation 1600 | Best distance: 13.308912846928202\n",
      "Generation 2600 | Best distance: 12.210469763930822\n",
      "Generation 2900 | Best distance: 11.976397001749543\n",
      "Generation 2600 | Best distance: 12.435186327404795\n",
      "Generation 3100 | Best distance: 12.135281110072063\n",
      "Generation 1500 | Best distance: 11.282368876768786\n",
      "Generation 1700 | Best distance: 12.635752057017593\n",
      "Generation 2300 | Best distance: 13.386852862154461\n",
      "Generation 2200 | Best distance: 13.478187733318753\n",
      "Generation 2100 | Best distance: 11.854785279241424\n",
      "Generation 2400 | Best distance: 12.165640495487\n",
      "Generation 2000 | Best distance: 12.410523293923701\n",
      "Generation 1800 | Best distance: 12.036434219488854\n",
      "Generation 1200 | Best distance: 14.29986472202905\n",
      "Generation 2300 | Best distance: 11.800149145668302\n",
      "Generation 1900 | Best distance: 12.901869768495398\n",
      "Generation 1600 | Best distance: 13.308288030782787\n",
      "Generation 3000 | Best distance: 11.976397001749543\n",
      "Generation 2700 | Best distance: 12.09124176392661\n",
      "Generation 3200 | Best distance: 12.016615839239563\n",
      "Generation 1300 | Best distance: 12.94806028292726\n",
      "Generation 2700 | Best distance: 12.262072702164645\n",
      "Generation 1700 | Best distance: 11.83066479955852\n",
      "Generation 1800 | Best distance: 14.638467079747135\n",
      "Generation 1800 | Best distance: 12.535578058495274\n",
      "Generation 1700 | Best distance: 11.611319466943867\n",
      "Generation 2400 | Best distance: 13.311903558261806\n",
      "Generation 1400 | Best distance: 12.984954839829225\n",
      "Generation 2500 | Best distance: 12.028494314885776\n",
      "Generation 1700 | Best distance: 13.218588807555378\n",
      "Generation 2300 | Best distance: 13.122002311647192\n",
      "Generation 1400 | Best distance: 13.527923236444561\n",
      "Generation 2200 | Best distance: 11.854785279241424\n",
      "Generation 3100 | Best distance: 11.976397001749543\n",
      "Generation 1800 | Best distance: 12.451146610341594\n",
      "Generation 2100 | Best distance: 12.236903518124667\n",
      "Generation 2400 | Best distance: 11.528807550442664\n",
      "Generation 3300 | Best distance: 12.016615839239563\n",
      "Generation 2800 | Best distance: 12.073246452742053\n",
      "Generation 1600 | Best distance: 10.768951171204893\n",
      "Generation 1900 | Best distance: 12.036434219488854\n",
      "Generation 2800 | Best distance: 12.174689620360912\n",
      "Generation 2000 | Best distance: 12.786619430033412\n",
      "Generation 1700 | Best distance: 13.18472030355395\n",
      "Generation 2600 | Best distance: 11.9559609507349\n",
      "Generation 2500 | Best distance: 13.191460214760001\n",
      "Generation 3200 | Best distance: 11.975012463653204\n",
      "Generation 3400 | Best distance: 11.918869591656538\n",
      "Generation 2400 | Best distance: 12.823581450278041\n",
      "Generation 1900 | Best distance: 14.55674215444264\n",
      "Generation 1900 | Best distance: 12.36508448017348\n",
      "Generation 1800 | Best distance: 11.738095407786954\n",
      "Generation 1300 | Best distance: 13.975341997258976\n",
      "Generation 2300 | Best distance: 11.854785279241424\n",
      "Generation 2900 | Best distance: 12.033242071508184\n",
      "Generation 1800 | Best distance: 11.178519228225474\n",
      "Generation 2500 | Best distance: 11.528807550442664\n",
      "Generation 1800 | Best distance: 13.182241724997978\n",
      "Generation 1400 | Best distance: 12.758247964621132\n",
      "Generation 2200 | Best distance: 11.989181061612545\n",
      "Generation 2900 | Best distance: 11.649840406601788\n",
      "Generation 1900 | Best distance: 12.444785320657541\n",
      "Generation 1500 | Best distance: 12.825378390317477\n",
      "Generation 2000 | Best distance: 12.0034653445059\n",
      "Generation 1500 | Best distance: 13.183757124451974\n",
      "Generation 3300 | Best distance: 11.859044577351566\n",
      "Generation 3500 | Best distance: 11.819121052666256\n",
      "Generation 2100 | Best distance: 12.753969671611104\n",
      "Generation 2700 | Best distance: 11.755910983585592\n",
      "Generation 1700 | Best distance: 10.724909888236338\n",
      "Generation 2600 | Best distance: 13.191460214760001\n",
      "Generation 3000 | Best distance: 11.671199521616883\n",
      "Generation 2500 | Best distance: 12.577182104254485\n",
      "Generation 2400 | Best distance: 11.832520760265322\n",
      "Generation 3000 | Best distance: 11.649840406601788\n",
      "Generation 2600 | Best distance: 11.499469744912897\n",
      "Generation 1800 | Best distance: 12.87102725285258\n",
      "Generation 2000 | Best distance: 14.55674215444264\n",
      "Generation 2000 | Best distance: 12.307465375889711\n",
      "Generation 1900 | Best distance: 11.592970239483755\n",
      "Generation 3600 | Best distance: 11.30611798788644\n",
      "Generation 3400 | Best distance: 11.859044577351566\n",
      "Generation 2300 | Best distance: 11.881756582014328\n",
      "Generation 1900 | Best distance: 11.082671106368885\n",
      "Generation 1900 | Best distance: 13.171058578431388\n",
      "Generation 2800 | Best distance: 11.755910983585592\n",
      "Generation 2700 | Best distance: 13.003102206042565\n",
      "Generation 3100 | Best distance: 11.39884709958045\n",
      "Generation 2000 | Best distance: 12.444785320657541\n",
      "Generation 2100 | Best distance: 11.770720654715744\n",
      "Generation 2200 | Best distance: 12.753969671611104\n",
      "Generation 1400 | Best distance: 13.44910330232545\n",
      "Generation 2600 | Best distance: 12.443975964006265\n",
      "Generation 1500 | Best distance: 12.669769759722945\n",
      "Generation 3100 | Best distance: 11.585668483428506\n",
      "Generation 3700 | Best distance: 11.216213521467036\n",
      "Generation 3500 | Best distance: 11.859044577351566\n",
      "Generation 2700 | Best distance: 11.499469744912897\n",
      "Generation 2500 | Best distance: 11.727159360497696\n",
      "Generation 1800 | Best distance: 10.654830047028591\n",
      "Generation 1600 | Best distance: 12.615620572607696\n",
      "Generation 1600 | Best distance: 13.135471409975331\n",
      "Generation 2100 | Best distance: 14.55674215444264\n",
      "Generation 2100 | Best distance: 12.249253740492911\n",
      "Generation 2400 | Best distance: 11.816817055494896\n",
      "Generation 3200 | Best distance: 11.191270590610012\n",
      "Generation 2900 | Best distance: 11.755910983585592\n",
      "Generation 1900 | Best distance: 12.626391742357036\n",
      "Generation 2000 | Best distance: 11.490718980604798\n",
      "Generation 2800 | Best distance: 13.003102206042565\n",
      "Generation 3800 | Best distance: 11.128119857160438\n",
      "Generation 2000 | Best distance: 11.082671106368885\n",
      "Generation 3200 | Best distance: 11.045614214365497\n",
      "Generation 3600 | Best distance: 11.859044577351566\n",
      "Generation 2700 | Best distance: 12.106266387423393\n",
      "Generation 2000 | Best distance: 13.171058578431388\n",
      "Generation 2300 | Best distance: 12.753969671611104\n",
      "Generation 2200 | Best distance: 11.770720654715744\n",
      "Generation 2100 | Best distance: 12.444785320657541\n",
      "Generation 2800 | Best distance: 11.499469744912897\n",
      "Generation 2600 | Best distance: 11.724409644262046\n",
      "Generation 3300 | Best distance: 11.112274209554021\n",
      "Generation 3900 | Best distance: 11.128119857160438\n",
      "Generation 3000 | Best distance: 11.719321093226556\n",
      "Generation 3700 | Best distance: 11.738728763280658\n",
      "Generation 2500 | Best distance: 11.36634732849759\n",
      "Generation 2900 | Best distance: 13.003102206042565\n",
      "Generation 1900 | Best distance: 10.587376804313626\n",
      "Generation 3300 | Best distance: 10.938315632363429\n",
      "Generation 1600 | Best distance: 12.669769759722945\n",
      "Generation 1500 | Best distance: 13.326139512313931\n",
      "Generation 2200 | Best distance: 14.529666023897711\n",
      "Generation 2200 | Best distance: 12.163511781101237\n",
      "Generation 1700 | Best distance: 12.46474080691967\n",
      "Generation 1700 | Best distance: 12.764716356076901\n",
      "Generation 2800 | Best distance: 11.670853691153763\n",
      "Generation 2000 | Best distance: 12.626391742357036\n",
      "Generation 2100 | Best distance: 11.376725784736959\n",
      "Generation 2900 | Best distance: 11.499469744912897\n",
      "Generation 2100 | Best distance: 11.082671106368885\n",
      "Generation 4000 | Best distance: 11.128119857160438\n",
      "Generation 2400 | Best distance: 12.678228198245014\n",
      "Generation 3400 | Best distance: 11.088794764806147\n",
      "Generation 2300 | Best distance: 11.770720654715744\n",
      "Generation 2700 | Best distance: 11.548430266117483\n",
      "Generation 2100 | Best distance: 13.135524643217131\n",
      "Generation 2200 | Best distance: 12.42060085869923\n",
      "Generation 3800 | Best distance: 11.641799301718713\n",
      "Generation 3100 | Best distance: 11.653475341838337\n",
      "Generation 3400 | Best distance: 10.879809796966113\n",
      "Generation 3000 | Best distance: 12.931105688793368\n",
      "Generation 2600 | Best distance: 11.36634732849759\n",
      "Generation 4100 | Best distance: 11.128119857160438\n",
      "Generation 2900 | Best distance: 11.397941840530152\n",
      "Generation 2300 | Best distance: 14.528020289350735\n",
      "Generation 3000 | Best distance: 11.304190513132287\n",
      "Generation 3500 | Best distance: 11.008658640988145\n",
      "Generation 2300 | Best distance: 12.119449790512666\n",
      "Generation 2000 | Best distance: 10.259845262180354\n",
      "Generation 3900 | Best distance: 11.606361815204668\n",
      "Generation 3200 | Best distance: 11.653475341838337\n",
      "Generation 2800 | Best distance: 11.548079980546747\n",
      "Generation 2200 | Best distance: 11.273073663377449\n",
      "Generation 3500 | Best distance: 10.826388401688515\n",
      "Generation 2500 | Best distance: 12.678228198245014\n",
      "Generation 2100 | Best distance: 12.441135297726847\n",
      "Generation 1700 | Best distance: 12.526379126443784\n",
      "Generation 2200 | Best distance: 11.082671106368885\n",
      "Generation 2400 | Best distance: 11.770720654715744\n",
      "Generation 1800 | Best distance: 12.609554786791016\n",
      "Generation 1800 | Best distance: 12.280189852520593\n",
      "Generation 3100 | Best distance: 12.70301394348549\n",
      "Generation 4200 | Best distance: 11.089174886711\n",
      "Generation 1600 | Best distance: 13.238791772412016\n",
      "Generation 2300 | Best distance: 12.42060085869923\n",
      "Generation 2200 | Best distance: 13.000328810410323\n",
      "Generation 2700 | Best distance: 11.030788030145692\n",
      "Generation 4000 | Best distance: 11.606361815204668\n",
      "Generation 3600 | Best distance: 11.008658640988145\n",
      "Generation 3000 | Best distance: 11.388149303914012\n",
      "Generation 3100 | Best distance: 11.202742963582729\n",
      "Generation 3600 | Best distance: 10.677750281484562\n",
      "Generation 3300 | Best distance: 11.610978248931701\n",
      "Generation 2400 | Best distance: 14.478785630785767\n",
      "Generation 4300 | Best distance: 11.089174886711\n",
      "Generation 2400 | Best distance: 12.05800738830356\n",
      "Generation 2900 | Best distance: 11.548079980546747\n",
      "Generation 3200 | Best distance: 12.530136465049127\n",
      "Generation 2600 | Best distance: 12.367301940123742\n",
      "Generation 2100 | Best distance: 10.137999823309984\n",
      "Generation 4100 | Best distance: 11.606361815204668\n",
      "Generation 2300 | Best distance: 11.239805817603681\n",
      "Generation 3700 | Best distance: 11.008658640988145\n",
      "Generation 2500 | Best distance: 11.770720654715744\n",
      "Generation 2200 | Best distance: 12.44002633088172\n",
      "Generation 2300 | Best distance: 11.082671106368885\n",
      "Generation 3100 | Best distance: 11.1498288519081\n",
      "Generation 2400 | Best distance: 12.385444096328213\n",
      "Generation 2800 | Best distance: 11.017792735949303\n",
      "Generation 3200 | Best distance: 11.202742963582729\n",
      "Generation 2300 | Best distance: 12.965098730600078\n",
      "Generation 4400 | Best distance: 11.062470323706389\n",
      "Generation 3700 | Best distance: 10.66741437950839\n",
      "Generation 3400 | Best distance: 11.596404677900516\n",
      "Generation 1900 | Best distance: 12.542420309362193\n",
      "Generation 1800 | Best distance: 12.491898167355131\n",
      "Generation 1900 | Best distance: 12.086907138137894\n",
      "Generation 4200 | Best distance: 11.508272427523957\n",
      "Generation 3000 | Best distance: 11.548079980546747\n",
      "Generation 1700 | Best distance: 13.238791772412016\n",
      "Generation 3300 | Best distance: 12.530136465049127\n",
      "Generation 2500 | Best distance: 14.313160854730294\n",
      "Generation 3800 | Best distance: 10.857972764624243\n",
      "Generation 2500 | Best distance: 12.000780006999797\n",
      "Generation 4500 | Best distance: 11.062470323706389\n",
      "Generation 2700 | Best distance: 12.349539401989\n",
      "Generation 3800 | Best distance: 10.66741437950839\n",
      "Generation 3200 | Best distance: 11.032807095572121\n",
      "Generation 3300 | Best distance: 11.202742963582729\n",
      "Generation 2600 | Best distance: 11.770720654715744\n",
      "Generation 2400 | Best distance: 11.236067971108984\n",
      "Generation 2200 | Best distance: 10.014215628591575\n",
      "Generation 2900 | Best distance: 11.017792735949303\n",
      "Generation 3500 | Best distance: 11.55390758499388\n",
      "Generation 4300 | Best distance: 11.508272427523957\n",
      "Generation 2400 | Best distance: 11.034976403414156\n",
      "Generation 2300 | Best distance: 12.300694532671914\n",
      "Generation 2500 | Best distance: 12.253645197138315\n",
      "Generation 2400 | Best distance: 12.965098730600078\n",
      "Generation 3900 | Best distance: 10.857972764624243\n",
      "Generation 4600 | Best distance: 11.062470323706389\n",
      "Generation 3400 | Best distance: 12.456334458198967\n",
      "Generation 3100 | Best distance: 11.523547643274606\n",
      "Generation 3900 | Best distance: 10.475992654893517\n",
      "Generation 2600 | Best distance: 14.313160854730294\n",
      "Generation 2000 | Best distance: 12.427156261938222\n",
      "Generation 2600 | Best distance: 11.946013809701098\n",
      "Generation 4400 | Best distance: 11.414854888836503\n",
      "Generation 2000 | Best distance: 12.039010085869478\n",
      "Generation 3400 | Best distance: 11.202742963582729\n",
      "Generation 2800 | Best distance: 12.349539401989\n",
      "Generation 1900 | Best distance: 12.409543243122126\n",
      "Generation 3300 | Best distance: 10.979574079140052\n",
      "Generation 3600 | Best distance: 11.544650978129107\n",
      "Generation 4700 | Best distance: 10.942301056430065\n",
      "Generation 3000 | Best distance: 11.017792735949303\n",
      "Generation 2700 | Best distance: 11.770720654715744\n",
      "Generation 4000 | Best distance: 10.841038041483994\n",
      "Generation 1800 | Best distance: 13.172444970880429\n",
      "Generation 2500 | Best distance: 11.128524942941002\n",
      "Generation 3500 | Best distance: 12.20962040628303\n",
      "Generation 2300 | Best distance: 9.891801778665888\n",
      "Generation 2600 | Best distance: 12.253645197138315\n",
      "Generation 2500 | Best distance: 10.908764516136262\n",
      "Generation 3200 | Best distance: 11.523547643274606\n",
      "Generation 4000 | Best distance: 10.25565020274589\n",
      "Generation 4500 | Best distance: 11.38890147072702\n",
      "Generation 2400 | Best distance: 12.270345276602534\n",
      "Generation 2500 | Best distance: 12.933043931828557\n",
      "Generation 4800 | Best distance: 10.942301056430065\n",
      "Generation 3500 | Best distance: 11.202057878888592\n",
      "Generation 3400 | Best distance: 10.898325918882268\n",
      "Generation 3700 | Best distance: 11.544650978129107\n",
      "Generation 4100 | Best distance: 10.730236176717158\n",
      "Generation 2900 | Best distance: 12.246429837515688\n",
      "Generation 2700 | Best distance: 14.279454959885834\n",
      "Generation 2700 | Best distance: 11.733515660590372\n",
      "Generation 3100 | Best distance: 11.0128063408454\n",
      "Generation 4600 | Best distance: 11.38890147072702\n",
      "Generation 3600 | Best distance: 12.13550966859749\n",
      "Generation 4100 | Best distance: 10.23299100024353\n",
      "Generation 2800 | Best distance: 11.770720654715744\n",
      "Generation 2100 | Best distance: 12.169345116417546\n",
      "Generation 4900 | Best distance: 10.878849161499655\n",
      "Generation 2100 | Best distance: 12.039010085869478\n",
      "Generation 3300 | Best distance: 11.503842025929147\n",
      "Generation 2000 | Best distance: 12.369480158821947\n",
      "Generation 2600 | Best distance: 10.985020099790493\n",
      "Generation 2700 | Best distance: 12.101206052004525\n",
      "Generation 3800 | Best distance: 11.544650978129107\n",
      "Generation 3600 | Best distance: 11.202057878888592\n",
      "Generation 4200 | Best distance: 10.730236176717158\n",
      "Generation 3500 | Best distance: 10.608376726585218\n",
      "Generation 2600 | Best distance: 10.880982587254\n",
      "Generation 2400 | Best distance: 9.870848703746086\n",
      "Generation 2500 | Best distance: 12.215533811710788\n",
      "Generation 2600 | Best distance: 12.435534171489374\n",
      "Generation 4700 | Best distance: 11.38408472686559\n",
      "Generation 1900 | Best distance: 12.595368928016116\n"
     ]
    },
    {
     "name": "stderr",
     "output_type": "stream",
     "text": [
      "[I 2024-06-08 10:56:58,533] Trial 12 finished with value: 10.878849161499655 and parameters: {'cantidad_poblacion': 46, 'elite_size': 22, 'mutation_rate': 0.11}. Best is trial 12 with value: 10.878849161499655.\n"
     ]
    },
    {
     "name": "stdout",
     "output_type": "stream",
     "text": [
      "Final best distance: 10.878849161499655\n",
      "Generation 0 | Best distance: 46.599115562026306\n",
      "Generation 3000 | Best distance: 12.246429837515688\n",
      "Generation 4200 | Best distance: 10.23299100024353\n",
      "Generation 3700 | Best distance: 12.13550966859749\n",
      "Generation 2800 | Best distance: 14.279454959885834\n",
      "Generation 2800 | Best distance: 11.604200680122895\n",
      "Generation 3200 | Best distance: 10.934448312646463\n",
      "Generation 3400 | Best distance: 11.503842025929147\n",
      "Generation 2900 | Best distance: 11.770720654715744\n",
      "Generation 4300 | Best distance: 10.623501559396217\n",
      "Generation 3900 | Best distance: 11.544650978129107\n",
      "Generation 3700 | Best distance: 11.202057878888592\n",
      "Generation 4800 | Best distance: 11.367723157101672\n",
      "Generation 3600 | Best distance: 10.608376726585218\n",
      "Generation 2700 | Best distance: 10.966013264785499\n",
      "Generation 100 | Best distance: 26.97822210947609\n",
      "Generation 4300 | Best distance: 10.230550399139773\n",
      "Generation 2200 | Best distance: 12.169345116417546\n",
      "Generation 2800 | Best distance: 12.101206052004525\n",
      "Generation 2200 | Best distance: 11.90846652151514\n",
      "Generation 2700 | Best distance: 10.796737805249213\n",
      "Generation 3800 | Best distance: 12.073010193061663\n",
      "Generation 2100 | Best distance: 12.285403932118538\n",
      "Generation 2700 | Best distance: 12.272319869937412\n",
      "Generation 2500 | Best distance: 9.827353480206922\n",
      "Generation 2600 | Best distance: 12.215533811710788\n",
      "Generation 3100 | Best distance: 12.244963597354827\n",
      "Generation 3300 | Best distance: 10.934448312646463\n",
      "Generation 4400 | Best distance: 10.623501559396217\n",
      "Generation 4900 | Best distance: 11.367723157101672\n",
      "Generation 2900 | Best distance: 14.279454959885834\n",
      "Generation 2900 | Best distance: 11.567339063432327\n",
      "Generation 4000 | Best distance: 11.531491170738585\n",
      "Generation 3500 | Best distance: 11.503842025929147\n",
      "Generation 3800 | Best distance: 11.144405935908646\n",
      "Generation 200 | Best distance: 22.492484627146833\n",
      "Generation 3700 | Best distance: 10.595348208997317\n",
      "Generation 3000 | Best distance: 11.770720654715744\n",
      "Generation 4400 | Best distance: 10.230550399139773\n",
      "Generation 2000 | Best distance: 12.595368928016116\n",
      "Generation 3900 | Best distance: 12.036122370836836\n"
     ]
    },
    {
     "name": "stderr",
     "output_type": "stream",
     "text": [
      "[I 2024-06-08 10:57:58,814] Trial 9 finished with value: 11.363968694036414 and parameters: {'cantidad_poblacion': 47, 'elite_size': 20, 'mutation_rate': 0.01}. Best is trial 12 with value: 10.878849161499655.\n"
     ]
    },
    {
     "name": "stdout",
     "output_type": "stream",
     "text": [
      "Final best distance: 11.363968694036414\n",
      "Generation 2800 | Best distance: 10.966013264785499\n",
      "Generation 4500 | Best distance: 10.565986238817139\n",
      "Generation 2900 | Best distance: 12.101206052004525\n",
      "Generation 2800 | Best distance: 10.768955306166111\n",
      "Generation 4100 | Best distance: 11.408215275220288\n",
      "Generation 3200 | Best distance: 12.244963597354827\n",
      "Generation 3400 | Best distance: 10.934448312646463\n",
      "Generation 300 | Best distance: 19.817798561079336\n",
      "Generation 2800 | Best distance: 12.272319869937412\n",
      "Generation 3900 | Best distance: 11.077010231811666\n",
      "Generation 2300 | Best distance: 11.74108411299258\n",
      "Generation 3600 | Best distance: 11.495234323133522\n",
      "Generation 4500 | Best distance: 10.230550399139773\n",
      "Generation 2700 | Best distance: 12.172380323017748\n",
      "Generation 2300 | Best distance: 11.811234909467673\n",
      "Generation 2600 | Best distance: 9.827353480206922\n",
      "Generation 3000 | Best distance: 14.224638578983217\n",
      "Generation 3800 | Best distance: 10.497104524687693\n",
      "Generation 3000 | Best distance: 11.567339063432327\n",
      "Generation 2200 | Best distance: 11.997299609046191\n",
      "Generation 3100 | Best distance: 11.521346926978929\n",
      "Generation 4600 | Best distance: 10.565986238817139\n",
      "Generation 4000 | Best distance: 12.036122370836836\n",
      "Generation 4200 | Best distance: 11.32118606884897\n",
      "Generation 400 | Best distance: 18.967413773896197\n",
      "Generation 4600 | Best distance: 10.215421093061218\n",
      "Generation 2900 | Best distance: 10.924976761375083\n",
      "Generation 3000 | Best distance: 12.101206052004525\n",
      "Generation 3500 | Best distance: 10.934448312646463\n",
      "Generation 4000 | Best distance: 11.004311114385112\n",
      "Generation 3300 | Best distance: 12.134706813320989\n",
      "Generation 3700 | Best distance: 11.495234323133522\n",
      "Generation 3900 | Best distance: 10.326333314841944\n",
      "Generation 2900 | Best distance: 10.705398468778693\n",
      "Generation 2100 | Best distance: 12.472409731450167\n",
      "Generation 4700 | Best distance: 10.540009328115506\n",
      "Generation 2900 | Best distance: 12.194267993084528\n",
      "Generation 3100 | Best distance: 14.067116163997825\n",
      "Generation 3100 | Best distance: 11.459194945324876\n",
      "Generation 4100 | Best distance: 12.036122370836836\n",
      "Generation 2800 | Best distance: 12.12673784064945\n",
      "Generation 2700 | Best distance: 9.733113435390909\n",
      "Generation 500 | Best distance: 18.119172930726506\n",
      "Generation 3200 | Best distance: 11.462653137552639\n",
      "Generation 2400 | Best distance: 11.74108411299258\n",
      "Generation 4300 | Best distance: 11.32118606884897\n",
      "Generation 4700 | Best distance: 10.145647067821045\n",
      "Generation 2400 | Best distance: 11.721198804897595\n",
      "Generation 4100 | Best distance: 10.93970531019609\n",
      "Generation 3600 | Best distance: 10.908379181711785\n",
      "Generation 2300 | Best distance: 11.997299609046191\n",
      "Generation 4800 | Best distance: 10.540009328115506\n",
      "Generation 3800 | Best distance: 11.495234323133522\n",
      "Generation 4000 | Best distance: 10.282296653035937\n",
      "Generation 3400 | Best distance: 12.030208594934615\n",
      "Generation 3100 | Best distance: 12.101206052004525\n",
      "Generation 3000 | Best distance: 10.804697904928329\n",
      "Generation 4200 | Best distance: 12.036122370836836\n",
      "Generation 600 | Best distance: 17.350694720661533\n",
      "Generation 3000 | Best distance: 10.705398468778693\n",
      "Generation 4800 | Best distance: 10.145647067821045\n",
      "Generation 4400 | Best distance: 11.275307101373285\n",
      "Generation 3200 | Best distance: 14.00346563105684\n",
      "Generation 3200 | Best distance: 11.459194945324876\n",
      "Generation 3000 | Best distance: 12.067158572781143\n",
      "Generation 3300 | Best distance: 11.450892997223395\n",
      "Generation 2900 | Best distance: 12.12673784064945\n",
      "Generation 4200 | Best distance: 10.93970531019609\n",
      "Generation 4900 | Best distance: 10.489776668230771\n",
      "Generation 2800 | Best distance: 9.6582459406817\n",
      "Generation 2200 | Best distance: 12.472409731450167\n",
      "Generation 4100 | Best distance: 10.282296653035937\n",
      "Generation 3700 | Best distance: 10.908379181711785\n",
      "Generation 3900 | Best distance: 11.495234323133522\n",
      "Generation 700 | Best distance: 16.19188898082974\n",
      "Generation 2500 | Best distance: 11.677911086944953\n",
      "Generation 3500 | Best distance: 11.973021310554275\n",
      "Generation 4300 | Best distance: 12.036122370836836\n",
      "Generation 4900 | Best distance: 10.136829504434008\n",
      "Generation 2500 | Best distance: 11.721198804897595\n",
      "Generation 4500 | Best distance: 11.21868404924118\n",
      "Generation 3200 | Best distance: 12.101206052004525\n",
      "Generation 3100 | Best distance: 10.804697904928329\n"
     ]
    },
    {
     "name": "stderr",
     "output_type": "stream",
     "text": [
      "[I 2024-06-08 10:59:57,160] Trial 18 finished with value: 10.395180632525118 and parameters: {'cantidad_poblacion': 53, 'elite_size': 29, 'mutation_rate': 0.31}. Best is trial 18 with value: 10.395180632525118.\n"
     ]
    },
    {
     "name": "stdout",
     "output_type": "stream",
     "text": [
      "Final best distance: 10.395180632525118\n",
      "Generation 2400 | Best distance: 11.997299609046191\n",
      "Generation 4300 | Best distance: 10.93970531019609\n",
      "Generation 3100 | Best distance: 10.650836200091689\n",
      "Generation 3300 | Best distance: 13.984895199168415\n",
      "Generation 3300 | Best distance: 11.395306432443713\n",
      "Generation 3100 | Best distance: 11.927053545688922\n",
      "Generation 800 | Best distance: 15.140812082400705\n",
      "Generation 3400 | Best distance: 11.408036992243611\n",
      "Generation 4200 | Best distance: 10.282296653035937\n"
     ]
    },
    {
     "name": "stderr",
     "output_type": "stream",
     "text": [
      "[I 2024-06-08 11:00:07,159] Trial 23 finished with value: 10.055519595858554 and parameters: {'cantidad_poblacion': 45, 'elite_size': 16, 'mutation_rate': 0.060000000000000005}. Best is trial 23 with value: 10.055519595858554.\n"
     ]
    },
    {
     "name": "stdout",
     "output_type": "stream",
     "text": [
      "Final best distance: 10.055519595858554\n",
      "Generation 4000 | Best distance: 11.495234323133522\n",
      "Generation 3000 | Best distance: 12.12673784064945\n",
      "Generation 3800 | Best distance: 10.908379181711785\n",
      "Generation 4400 | Best distance: 12.036122370836836\n",
      "Generation 4600 | Best distance: 11.137912420607972\n",
      "Generation 2900 | Best distance: 9.477494974434796\n",
      "Generation 3600 | Best distance: 11.971232088129954\n",
      "Generation 3300 | Best distance: 11.981472130548735\n",
      "Generation 4400 | Best distance: 10.921430049963357\n",
      "Generation 900 | Best distance: 14.773512319234955\n",
      "Generation 2300 | Best distance: 12.432018341993611\n",
      "Generation 3200 | Best distance: 10.752226379544187\n",
      "Generation 2600 | Best distance: 11.524014037951458\n",
      "Generation 2600 | Best distance: 11.52840478178248\n",
      "Generation 4300 | Best distance: 10.262787425964335\n",
      "Generation 3400 | Best distance: 13.984895199168415\n",
      "Generation 3200 | Best distance: 10.650836200091689\n",
      "Generation 3400 | Best distance: 11.395306432443713\n",
      "Generation 4500 | Best distance: 12.017831259615875\n",
      "Generation 4100 | Best distance: 11.495234323133522\n",
      "Generation 3500 | Best distance: 11.063377381196323\n",
      "Generation 4700 | Best distance: 11.137912420607972\n",
      "Generation 3200 | Best distance: 11.858191955779642\n",
      "Generation 3900 | Best distance: 10.809237242335655\n",
      "Generation 2500 | Best distance: 11.997299609046191\n",
      "Generation 3100 | Best distance: 12.12673784064945\n",
      "Generation 1000 | Best distance: 14.355290662888036\n",
      "Generation 3700 | Best distance: 11.960478557350156\n",
      "Generation 4500 | Best distance: 10.921430049963357\n",
      "Generation 3000 | Best distance: 9.477494974434796\n",
      "Generation 3400 | Best distance: 11.869687328164815\n",
      "Generation 4400 | Best distance: 10.262787425964335\n",
      "Generation 4600 | Best distance: 11.983976149344391\n",
      "Generation 3300 | Best distance: 10.751715156038538\n",
      "Generation 4800 | Best distance: 11.046356596087973\n",
      "Generation 4200 | Best distance: 11.495234323133522\n",
      "Generation 3500 | Best distance: 13.917794001094007\n",
      "Generation 3500 | Best distance: 11.395306432443713\n",
      "Generation 4000 | Best distance: 10.809237242335655\n",
      "Generation 1100 | Best distance: 13.866621435324172\n",
      "Generation 3600 | Best distance: 10.72704126346551\n",
      "Generation 3300 | Best distance: 10.650836200091689\n",
      "Generation 2700 | Best distance: 11.409710955620346\n",
      "Generation 3300 | Best distance: 11.837688043464476\n",
      "Generation 4600 | Best distance: 10.921430049963357\n",
      "Generation 2700 | Best distance: 11.472096858022415\n",
      "Generation 2400 | Best distance: 12.432018341993611\n",
      "Generation 3800 | Best distance: 11.960478557350156\n",
      "Generation 3200 | Best distance: 12.12673784064945\n",
      "Generation 4500 | Best distance: 10.249141698036722\n",
      "Generation 4900 | Best distance: 10.951409207401158\n",
      "Generation 4700 | Best distance: 11.983976149344391\n",
      "Generation 2600 | Best distance: 11.997299609046191\n",
      "Generation 1200 | Best distance: 13.54790072843543\n",
      "Generation 3100 | Best distance: 9.477494974434796\n",
      "Generation 3500 | Best distance: 11.76850531723573\n",
      "Generation 4300 | Best distance: 11.469353728987393\n",
      "Generation 4100 | Best distance: 10.809237242335655\n",
      "Generation 3400 | Best distance: 10.751715156038538\n",
      "Generation 4700 | Best distance: 10.921430049963357\n",
      "Generation 3600 | Best distance: 13.823087753378152\n",
      "Generation 3600 | Best distance: 11.391899384771992\n",
      "Generation 3700 | Best distance: 10.72704126346551\n",
      "Generation 3400 | Best distance: 10.650836200091689\n",
      "Generation 3400 | Best distance: 11.710434177625524\n",
      "Generation 3900 | Best distance: 11.898030154612815\n"
     ]
    },
    {
     "name": "stderr",
     "output_type": "stream",
     "text": [
      "[I 2024-06-08 11:01:54,460] Trial 13 finished with value: 10.855346195289844 and parameters: {'cantidad_poblacion': 42, 'elite_size': 12, 'mutation_rate': 0.16000000000000003}. Best is trial 23 with value: 10.055519595858554.\n"
     ]
    },
    {
     "name": "stdout",
     "output_type": "stream",
     "text": [
      "Final best distance: 10.855346195289844\n",
      "Generation 4600 | Best distance: 10.244684712477762\n",
      "Generation 1300 | Best distance: 13.046224386648431\n",
      "Generation 4800 | Best distance: 11.983976149344391\n",
      "Generation 2800 | Best distance: 11.409710955620346\n",
      "Generation 2800 | Best distance: 11.464242455235603\n",
      "Generation 4400 | Best distance: 11.457976009039127\n",
      "Generation 3300 | Best distance: 12.013167560377179\n",
      "Generation 2500 | Best distance: 12.348871460723398\n",
      "Generation 4800 | Best distance: 10.921430049963357\n",
      "Generation 3600 | Best distance: 11.76850531723573\n",
      "Generation 4200 | Best distance: 10.809237242335655\n",
      "Generation 3200 | Best distance: 9.45389448381906\n",
      "Generation 3500 | Best distance: 10.751715156038538\n",
      "Generation 3700 | Best distance: 13.689981833919983\n",
      "Generation 3700 | Best distance: 11.391899384771992\n",
      "Generation 1400 | Best distance: 12.868557211367143\n",
      "Generation 2700 | Best distance: 11.997299609046191\n",
      "Generation 3800 | Best distance: 10.677234700522625\n",
      "Generation 4700 | Best distance: 10.206187675435821\n",
      "Generation 4900 | Best distance: 11.983976149344391\n",
      "Generation 3500 | Best distance: 10.650836200091689\n",
      "Generation 4000 | Best distance: 11.898030154612815\n",
      "Generation 3500 | Best distance: 11.694958191643915\n",
      "Generation 4500 | Best distance: 11.457976009039127\n",
      "Generation 4900 | Best distance: 10.921430049963357\n",
      "Generation 4300 | Best distance: 10.809237242335655\n",
      "Generation 1500 | Best distance: 12.835021796317616\n",
      "Generation 3400 | Best distance: 11.913806934431209\n",
      "Generation 2900 | Best distance: 11.409710955620346\n",
      "Generation 3700 | Best distance: 11.76850531723573\n"
     ]
    },
    {
     "name": "stderr",
     "output_type": "stream",
     "text": [
      "[I 2024-06-08 11:02:48,339] Trial 0 finished with value: 11.983976149344391 and parameters: {'cantidad_poblacion': 46, 'elite_size': 16, 'mutation_rate': 0.21000000000000002}. Best is trial 23 with value: 10.055519595858554.\n"
     ]
    },
    {
     "name": "stdout",
     "output_type": "stream",
     "text": [
      "Final best distance: 11.983976149344391\n",
      "Generation 2900 | Best distance: 11.464242455235603\n",
      "Generation 4800 | Best distance: 10.206187675435821\n",
      "Generation 3800 | Best distance: 13.600281566483314\n",
      "Generation 3900 | Best distance: 10.448771480326666\n",
      "Generation 3800 | Best distance: 11.300817711201336\n",
      "Generation 3600 | Best distance: 10.675077672696862\n",
      "Generation 3300 | Best distance: 9.353823928279763\n",
      "Generation 4100 | Best distance: 11.898030154612815\n",
      "Generation 2600 | Best distance: 12.338514100384451\n",
      "Generation 3600 | Best distance: 10.650836200091689\n",
      "Generation 4600 | Best distance: 11.457976009039127\n"
     ]
    },
    {
     "name": "stderr",
     "output_type": "stream",
     "text": [
      "[I 2024-06-08 11:03:02,525] Trial 11 finished with value: 10.79339452353981 and parameters: {'cantidad_poblacion': 54, 'elite_size': 27, 'mutation_rate': 0.31}. Best is trial 23 with value: 10.055519595858554.\n"
     ]
    },
    {
     "name": "stdout",
     "output_type": "stream",
     "text": [
      "Final best distance: 10.79339452353981\n",
      "Generation 1600 | Best distance: 12.652440638063148\n",
      "Generation 3600 | Best distance: 11.694958191643915\n",
      "Generation 2800 | Best distance: 11.612708988955934\n",
      "Generation 4400 | Best distance: 10.809237242335655\n",
      "Generation 4900 | Best distance: 10.191058369357268\n",
      "Generation 3500 | Best distance: 11.913806934431209\n",
      "Generation 3800 | Best distance: 11.73789573434403\n",
      "Generation 1700 | Best distance: 12.652440638063148\n",
      "Generation 4000 | Best distance: 10.448771480326666\n",
      "Generation 3900 | Best distance: 13.527751780489687\n",
      "Generation 3900 | Best distance: 11.260605134580393\n",
      "Generation 3000 | Best distance: 11.371224254144478\n",
      "Generation 4200 | Best distance: 11.898030154612815\n",
      "Generation 3700 | Best distance: 10.675077672696862\n",
      "Generation 4700 | Best distance: 11.45452723930489\n",
      "Generation 3000 | Best distance: 11.194055782980742\n",
      "Generation 3400 | Best distance: 9.353823928279763\n",
      "Generation 3700 | Best distance: 10.650836200091689\n",
      "Generation 4500 | Best distance: 10.809237242335655\n"
     ]
    },
    {
     "name": "stderr",
     "output_type": "stream",
     "text": [
      "[I 2024-06-08 11:03:35,220] Trial 22 finished with value: 10.133372923467919 and parameters: {'cantidad_poblacion': 49, 'elite_size': 15, 'mutation_rate': 0.11}. Best is trial 23 with value: 10.055519595858554.\n"
     ]
    },
    {
     "name": "stdout",
     "output_type": "stream",
     "text": [
      "Final best distance: 10.133372923467919\n",
      "Generation 3700 | Best distance: 11.651219965517752\n",
      "Generation 1800 | Best distance: 12.603424392386282\n",
      "Generation 2700 | Best distance: 11.979936335153923\n",
      "Generation 2900 | Best distance: 11.545879838889787\n",
      "Generation 3900 | Best distance: 11.539503158486268\n",
      "Generation 3600 | Best distance: 11.873539338631446\n",
      "Generation 4100 | Best distance: 10.265951738036746\n",
      "Generation 4800 | Best distance: 11.45452723930489\n",
      "Generation 4000 | Best distance: 13.438898591597535\n",
      "Generation 4000 | Best distance: 11.260605134580393\n",
      "Generation 4300 | Best distance: 11.792316307475344\n",
      "Generation 3800 | Best distance: 10.536057353438945\n",
      "Generation 1900 | Best distance: 12.603424392386282\n",
      "Generation 4600 | Best distance: 10.759835620731156\n",
      "Generation 3100 | Best distance: 11.1284345072769\n",
      "Generation 3500 | Best distance: 9.353823928279763\n",
      "Generation 3800 | Best distance: 10.650836200091689\n",
      "Generation 3100 | Best distance: 10.941620855224594\n",
      "Generation 3800 | Best distance: 11.651219965517752\n",
      "Generation 4900 | Best distance: 11.45452723930489\n",
      "Generation 4000 | Best distance: 11.372393549479984\n",
      "Generation 2000 | Best distance: 12.603424392386282\n",
      "Generation 4200 | Best distance: 10.109380812703634\n",
      "Generation 4400 | Best distance: 11.792316307475344\n",
      "Generation 4100 | Best distance: 13.144544813559062\n",
      "Generation 4100 | Best distance: 11.258092109750171\n",
      "Generation 3700 | Best distance: 11.873539338631446\n",
      "Generation 3000 | Best distance: 11.545879838889787\n",
      "Generation 4700 | Best distance: 10.759835620731156\n",
      "Generation 2800 | Best distance: 11.979936335153923\n",
      "Generation 3900 | Best distance: 10.536057353438945\n",
      "Generation 3900 | Best distance: 10.650836200091689\n",
      "Generation 3600 | Best distance: 9.353823928279763\n",
      "Generation 2100 | Best distance: 12.603424392386282\n",
      "Generation 3900 | Best distance: 11.651219965517752\n"
     ]
    },
    {
     "name": "stderr",
     "output_type": "stream",
     "text": [
      "[I 2024-06-08 11:04:21,769] Trial 2 finished with value: 11.45452723930489 and parameters: {'cantidad_poblacion': 49, 'elite_size': 14, 'mutation_rate': 0.11}. Best is trial 23 with value: 10.055519595858554.\n"
     ]
    },
    {
     "name": "stdout",
     "output_type": "stream",
     "text": [
      "Final best distance: 11.45452723930489\n",
      "Generation 3200 | Best distance: 11.031060002551216\n",
      "Generation 3200 | Best distance: 10.89163635472353\n",
      "Generation 4500 | Best distance: 11.774577714017369\n",
      "Generation 4300 | Best distance: 10.04281312189473\n",
      "Generation 4100 | Best distance: 11.370362139900825\n",
      "Generation 4200 | Best distance: 13.141939374829507\n",
      "Generation 4200 | Best distance: 11.258092109750171\n",
      "Generation 4800 | Best distance: 10.759835620731156\n",
      "Generation 3800 | Best distance: 11.873539338631446\n",
      "Generation 2200 | Best distance: 12.549850462275773\n",
      "Generation 4000 | Best distance: 10.500194904369152\n",
      "Generation 3100 | Best distance: 11.545879838889787\n",
      "Generation 4000 | Best distance: 10.626402346864653\n",
      "Generation 2900 | Best distance: 11.602074562633295\n",
      "Generation 4000 | Best distance: 11.630657113370813\n",
      "Generation 3700 | Best distance: 9.353823928279763\n",
      "Generation 4600 | Best distance: 11.655018066018984\n",
      "Generation 2300 | Best distance: 12.403004960759057\n",
      "Generation 4400 | Best distance: 9.999446523310468\n",
      "Generation 4900 | Best distance: 10.754027595056888\n",
      "Generation 4200 | Best distance: 11.290419305506333\n",
      "Generation 3300 | Best distance: 11.031060002551216\n",
      "Generation 4300 | Best distance: 13.141939374829507\n",
      "Generation 4300 | Best distance: 11.258092109750171\n",
      "Generation 3300 | Best distance: 10.722702897266325\n",
      "Generation 3900 | Best distance: 11.873539338631446\n",
      "Generation 4100 | Best distance: 10.500194904369152\n",
      "Generation 2400 | Best distance: 12.316771569747196\n",
      "Generation 4100 | Best distance: 10.497057509623204\n",
      "Generation 4100 | Best distance: 11.599824920878783\n",
      "Generation 4700 | Best distance: 11.537855634295171\n"
     ]
    },
    {
     "name": "stderr",
     "output_type": "stream",
     "text": [
      "[I 2024-06-08 11:05:15,262] Trial 21 finished with value: 10.754027595056888 and parameters: {'cantidad_poblacion': 41, 'elite_size': 10, 'mutation_rate': 0.31}. Best is trial 23 with value: 10.055519595858554.\n"
     ]
    },
    {
     "name": "stdout",
     "output_type": "stream",
     "text": [
      "Final best distance: 10.754027595056888\n",
      "Generation 3800 | Best distance: 9.351077501710783\n",
      "Generation 4500 | Best distance: 9.969130191001609\n",
      "Generation 3200 | Best distance: 11.545879838889787\n",
      "Generation 4300 | Best distance: 11.290419305506333\n",
      "Generation 4400 | Best distance: 13.141939374829507\n",
      "Generation 4400 | Best distance: 11.258092109750171\n",
      "Generation 3000 | Best distance: 11.503854859242487\n",
      "Generation 2500 | Best distance: 12.316771569747196\n",
      "Generation 3400 | Best distance: 11.031060002551216\n",
      "Generation 4200 | Best distance: 10.449061313553441\n",
      "Generation 4000 | Best distance: 11.873539338631446\n",
      "Generation 3400 | Best distance: 10.713450293400628\n",
      "Generation 4200 | Best distance: 10.38035622050282\n",
      "Generation 4800 | Best distance: 11.533415093384368\n",
      "Generation 2600 | Best distance: 12.133765922261222\n",
      "Generation 4200 | Best distance: 11.599824920878783\n",
      "Generation 4600 | Best distance: 9.938047385548728\n",
      "Generation 4400 | Best distance: 11.219465130590812\n",
      "Generation 3900 | Best distance: 9.324514550937836\n",
      "Generation 4500 | Best distance: 12.875603249425957\n",
      "Generation 4500 | Best distance: 11.257054406882313\n",
      "Generation 3300 | Best distance: 11.545879838889787\n",
      "Generation 4300 | Best distance: 10.402186757583666\n",
      "Generation 2700 | Best distance: 12.133765922261222\n",
      "Generation 4100 | Best distance: 11.668571725558204\n",
      "Generation 3500 | Best distance: 11.014293112600415\n",
      "Generation 3100 | Best distance: 11.469865149537997\n",
      "Generation 4900 | Best distance: 11.533415093384368\n",
      "Generation 4300 | Best distance: 10.38035622050282\n",
      "Generation 3500 | Best distance: 10.240316783925056\n",
      "Generation 4700 | Best distance: 9.885876474105906\n",
      "Generation 4300 | Best distance: 11.599824920878783\n",
      "Generation 4500 | Best distance: 11.170640650339104\n",
      "Generation 4600 | Best distance: 12.81145098143681\n",
      "Generation 4600 | Best distance: 11.257054406882313\n",
      "Generation 2800 | Best distance: 12.101508651697031\n",
      "Generation 4000 | Best distance: 9.324514550937836\n",
      "Generation 4400 | Best distance: 10.308026398890778\n"
     ]
    },
    {
     "name": "stderr",
     "output_type": "stream",
     "text": [
      "[I 2024-06-08 11:06:25,310] Trial 7 finished with value: 11.533415093384368 and parameters: {'cantidad_poblacion': 61, 'elite_size': 28, 'mutation_rate': 0.31}. Best is trial 23 with value: 10.055519595858554.\n"
     ]
    },
    {
     "name": "stdout",
     "output_type": "stream",
     "text": [
      "Final best distance: 11.533415093384368\n",
      "Generation 4200 | Best distance: 11.668571725558204\n",
      "Generation 3400 | Best distance: 11.51520360938032\n",
      "Generation 2900 | Best distance: 12.08702957907311\n",
      "Generation 4800 | Best distance: 9.735014231720706\n",
      "Generation 4400 | Best distance: 10.38035622050282\n",
      "Generation 3600 | Best distance: 10.969956321739543\n",
      "Generation 4400 | Best distance: 11.599824920878783\n",
      "Generation 4700 | Best distance: 12.273844650957106\n",
      "Generation 4600 | Best distance: 11.170640650339104\n",
      "Generation 4700 | Best distance: 11.219984535855303\n",
      "Generation 3600 | Best distance: 10.240316783925056\n",
      "Generation 3200 | Best distance: 11.469865149537997\n",
      "Generation 4100 | Best distance: 9.324514550937836\n",
      "Generation 3000 | Best distance: 12.009776964815568\n",
      "Generation 4500 | Best distance: 10.257325617417148\n",
      "Generation 4300 | Best distance: 11.668571725558204\n",
      "Generation 4900 | Best distance: 9.735014231720706\n",
      "Generation 4500 | Best distance: 10.38035622050282\n",
      "Generation 3500 | Best distance: 11.45490345611452\n",
      "Generation 4500 | Best distance: 11.597823090977267\n",
      "Generation 4800 | Best distance: 12.14978901458664\n",
      "Generation 4700 | Best distance: 11.132580012127054\n",
      "Generation 3100 | Best distance: 11.987853273769648\n",
      "Generation 4800 | Best distance: 11.219984535855303\n",
      "Generation 3700 | Best distance: 10.941972900879698\n",
      "Generation 3700 | Best distance: 10.202983882109445\n",
      "Generation 4200 | Best distance: 9.324514550937836\n",
      "Generation 3300 | Best distance: 11.392053013942798\n",
      "Generation 4600 | Best distance: 10.111223094163877\n"
     ]
    },
    {
     "name": "stderr",
     "output_type": "stream",
     "text": [
      "[I 2024-06-08 11:07:12,532] Trial 6 finished with value: 9.651684772527952 and parameters: {'cantidad_poblacion': 65, 'elite_size': 23, 'mutation_rate': 0.11}. Best is trial 6 with value: 9.651684772527952.\n"
     ]
    },
    {
     "name": "stdout",
     "output_type": "stream",
     "text": [
      "Generation 3200 | Best distance: 11.5776851122286\n",
      "Final best distance: 9.651684772527952\n",
      "Generation 4400 | Best distance: 11.668571725558204\n",
      "Generation 4600 | Best distance: 10.38035622050282\n",
      "Generation 4900 | Best distance: 12.116700688299233\n",
      "Generation 4900 | Best distance: 11.10796079600519\n",
      "Generation 4800 | Best distance: 11.132580012127054\n",
      "Generation 4600 | Best distance: 11.597823090977267\n",
      "Generation 3600 | Best distance: 11.305375786862632\n",
      "Generation 3300 | Best distance: 11.57058545939916\n",
      "Generation 3800 | Best distance: 10.941972900879698\n",
      "Generation 4300 | Best distance: 9.324514550937836\n",
      "Generation 4700 | Best distance: 10.066809499742156\n",
      "Generation 3800 | Best distance: 10.189754279918773\n",
      "Generation 4500 | Best distance: 11.599447112036952\n"
     ]
    },
    {
     "name": "stderr",
     "output_type": "stream",
     "text": [
      "[I 2024-06-08 11:07:40,205] Trial 20 finished with value: 11.739304997391896 and parameters: {'cantidad_poblacion': 48, 'elite_size': 11, 'mutation_rate': 0.26}. Best is trial 6 with value: 9.651684772527952.\n"
     ]
    },
    {
     "name": "stdout",
     "output_type": "stream",
     "text": [
      "Generation 4700 | Best distance: 10.38035622050282\n",
      "Final best distance: 11.739304997391896\n",
      "Generation 3400 | Best distance: 11.57058545939916\n"
     ]
    },
    {
     "name": "stderr",
     "output_type": "stream",
     "text": [
      "[I 2024-06-08 11:07:41,450] Trial 14 finished with value: 11.10796079600519 and parameters: {'cantidad_poblacion': 55, 'elite_size': 17, 'mutation_rate': 0.26}. Best is trial 6 with value: 9.651684772527952.\n"
     ]
    },
    {
     "name": "stdout",
     "output_type": "stream",
     "text": [
      "Generation 3400 | Best distance: 11.19425094008168\n",
      "Final best distance: 11.10796079600519\n",
      "Generation 4900 | Best distance: 11.132580012127054\n",
      "Generation 4700 | Best distance: 11.597823090977267\n",
      "Generation 3500 | Best distance: 11.57058545939916\n",
      "Generation 4800 | Best distance: 10.066809499742156\n",
      "Generation 3700 | Best distance: 11.305375786862632\n",
      "Generation 4400 | Best distance: 9.324514550937836\n",
      "Generation 3900 | Best distance: 10.941972900879698\n",
      "Generation 3900 | Best distance: 10.189754279918773\n",
      "Generation 4600 | Best distance: 11.599447112036952\n",
      "Generation 4800 | Best distance: 10.38035622050282\n"
     ]
    },
    {
     "name": "stderr",
     "output_type": "stream",
     "text": [
      "[I 2024-06-08 11:08:01,152] Trial 5 finished with value: 11.132580012127054 and parameters: {'cantidad_poblacion': 74, 'elite_size': 30, 'mutation_rate': 0.11}. Best is trial 6 with value: 9.651684772527952.\n"
     ]
    },
    {
     "name": "stdout",
     "output_type": "stream",
     "text": [
      "Final best distance: 11.132580012127054\n",
      "Generation 4800 | Best distance: 11.597823090977267\n",
      "Generation 3600 | Best distance: 11.57058545939916\n",
      "Generation 3500 | Best distance: 11.19425094008168\n",
      "Generation 4900 | Best distance: 9.961900338196616\n",
      "Generation 4500 | Best distance: 9.266246217442154\n",
      "Generation 3700 | Best distance: 11.57058545939916\n",
      "Generation 4000 | Best distance: 10.941972900879698\n",
      "Generation 3800 | Best distance: 11.160188387759503\n",
      "Generation 4900 | Best distance: 10.38035622050282\n",
      "Generation 4700 | Best distance: 11.599447112036952\n",
      "Generation 4900 | Best distance: 11.597823090977267\n",
      "Generation 4000 | Best distance: 10.189754279918773\n",
      "Generation 3800 | Best distance: 11.57058545939916\n"
     ]
    },
    {
     "name": "stderr",
     "output_type": "stream",
     "text": [
      "[I 2024-06-08 11:08:29,114] Trial 17 finished with value: 9.95364030231906 and parameters: {'cantidad_poblacion': 69, 'elite_size': 19, 'mutation_rate': 0.01}. Best is trial 6 with value: 9.651684772527952.\n"
     ]
    },
    {
     "name": "stdout",
     "output_type": "stream",
     "text": [
      "Final best distance: 9.95364030231906\n",
      "Generation 3600 | Best distance: 11.172655495811593\n",
      "Generation 4600 | Best distance: 9.258485295391623\n"
     ]
    },
    {
     "name": "stderr",
     "output_type": "stream",
     "text": [
      "[I 2024-06-08 11:08:35,076] Trial 1 finished with value: 10.38035622050282 and parameters: {'cantidad_poblacion': 64, 'elite_size': 17, 'mutation_rate': 0.060000000000000005}. Best is trial 6 with value: 9.651684772527952.\n"
     ]
    },
    {
     "name": "stdout",
     "output_type": "stream",
     "text": [
      "Final best distance: 10.38035622050282\n",
      "Generation 4800 | Best distance: 11.545087423879892\n",
      "Generation 3900 | Best distance: 11.57058545939916\n"
     ]
    },
    {
     "name": "stderr",
     "output_type": "stream",
     "text": [
      "[I 2024-06-08 11:08:37,062] Trial 19 finished with value: 11.58142232971822 and parameters: {'cantidad_poblacion': 58, 'elite_size': 14, 'mutation_rate': 0.16000000000000003}. Best is trial 6 with value: 9.651684772527952.\n"
     ]
    },
    {
     "name": "stdout",
     "output_type": "stream",
     "text": [
      "Final best distance: 11.58142232971822\n",
      "Generation 4100 | Best distance: 10.941972900879698\n",
      "Generation 3900 | Best distance: 11.11789656716792\n",
      "Generation 4100 | Best distance: 10.176350929613681\n",
      "Generation 4000 | Best distance: 11.56769109049315\n",
      "Generation 4700 | Best distance: 9.258485295391623\n",
      "Generation 4900 | Best distance: 11.455834697184459\n",
      "Generation 3700 | Best distance: 10.977397255167528\n",
      "Generation 4100 | Best distance: 11.56769109049315\n",
      "Generation 4200 | Best distance: 10.941972900879698\n",
      "Generation 4000 | Best distance: 11.11789656716792\n",
      "Generation 4200 | Best distance: 10.170851957351626\n",
      "Generation 4200 | Best distance: 11.56769109049315\n",
      "Generation 4800 | Best distance: 9.258485295391623\n"
     ]
    },
    {
     "name": "stderr",
     "output_type": "stream",
     "text": [
      "[I 2024-06-08 11:08:55,662] Trial 15 finished with value: 11.455834697184459 and parameters: {'cantidad_poblacion': 57, 'elite_size': 8, 'mutation_rate': 0.060000000000000005}. Best is trial 6 with value: 9.651684772527952.\n"
     ]
    },
    {
     "name": "stdout",
     "output_type": "stream",
     "text": [
      "Final best distance: 11.455834697184459\n",
      "Generation 4300 | Best distance: 11.56769109049315\n",
      "Generation 3800 | Best distance: 10.977397255167528\n",
      "Generation 4300 | Best distance: 10.92903457212947\n",
      "Generation 4100 | Best distance: 11.099215333396982\n",
      "Generation 4300 | Best distance: 9.954804823525345\n",
      "Generation 4900 | Best distance: 9.258485295391623\n",
      "Generation 4400 | Best distance: 11.56769109049315\n",
      "Generation 4500 | Best distance: 11.56769109049315\n",
      "Generation 4400 | Best distance: 10.92903457212947\n",
      "Generation 3900 | Best distance: 10.977397255167528\n",
      "Generation 4200 | Best distance: 11.099215333396982\n",
      "Generation 4400 | Best distance: 9.93626141870215\n"
     ]
    },
    {
     "name": "stderr",
     "output_type": "stream",
     "text": [
      "[I 2024-06-08 11:09:16,279] Trial 8 finished with value: 9.25048903760565 and parameters: {'cantidad_poblacion': 79, 'elite_size': 27, 'mutation_rate': 0.060000000000000005}. Best is trial 8 with value: 9.25048903760565.\n"
     ]
    },
    {
     "name": "stdout",
     "output_type": "stream",
     "text": [
      "Final best distance: 9.25048903760565\n",
      "Generation 4600 | Best distance: 11.17886486435724\n",
      "Generation 4700 | Best distance: 11.17886486435724\n",
      "Generation 4500 | Best distance: 10.92903457212947\n",
      "Generation 4000 | Best distance: 10.951527626524529\n",
      "Generation 4500 | Best distance: 9.93626141870215\n",
      "Generation 4300 | Best distance: 11.086222170823659\n",
      "Generation 4800 | Best distance: 11.17886486435724\n",
      "Generation 4900 | Best distance: 11.17886486435724\n",
      "Generation 4600 | Best distance: 10.92903457212947\n",
      "Generation 4600 | Best distance: 9.93626141870215\n",
      "Generation 4400 | Best distance: 11.086222170823659\n",
      "Generation 4100 | Best distance: 10.951527626524529\n"
     ]
    },
    {
     "name": "stderr",
     "output_type": "stream",
     "text": [
      "[I 2024-06-08 11:09:38,301] Trial 24 finished with value: 11.157611928410805 and parameters: {'cantidad_poblacion': 48, 'elite_size': 21, 'mutation_rate': 0.11}. Best is trial 8 with value: 9.25048903760565.\n"
     ]
    },
    {
     "name": "stdout",
     "output_type": "stream",
     "text": [
      "Final best distance: 11.157611928410805\n",
      "Generation 4700 | Best distance: 10.92903457212947\n",
      "Generation 4700 | Best distance: 9.877103239526148\n",
      "Generation 4500 | Best distance: 11.061184773464264\n",
      "Generation 4200 | Best distance: 10.951527626524529\n",
      "Generation 4800 | Best distance: 10.902462812389004\n",
      "Generation 4800 | Best distance: 9.862438883828585\n",
      "Generation 4600 | Best distance: 11.061184773464264\n",
      "Generation 4300 | Best distance: 10.930183092511347\n",
      "Generation 4900 | Best distance: 10.902462812389004\n",
      "Generation 4900 | Best distance: 9.803280704652583\n",
      "Generation 4700 | Best distance: 11.061184773464264\n",
      "Generation 4400 | Best distance: 10.705553333418889\n"
     ]
    },
    {
     "name": "stderr",
     "output_type": "stream",
     "text": [
      "[I 2024-06-08 11:10:06,237] Trial 16 finished with value: 10.902462812389004 and parameters: {'cantidad_poblacion': 66, 'elite_size': 10, 'mutation_rate': 0.11}. Best is trial 8 with value: 9.25048903760565.\n"
     ]
    },
    {
     "name": "stdout",
     "output_type": "stream",
     "text": [
      "Final best distance: 10.902462812389004\n",
      "Generation 4500 | Best distance: 10.705553333418889\n",
      "Generation 4600 | Best distance: 10.67228500240286\n"
     ]
    },
    {
     "name": "stderr",
     "output_type": "stream",
     "text": [
      "[I 2024-06-08 11:10:10,830] Trial 4 finished with value: 9.795476368578194 and parameters: {'cantidad_poblacion': 64, 'elite_size': 15, 'mutation_rate': 0.26}. Best is trial 8 with value: 9.25048903760565.\n"
     ]
    },
    {
     "name": "stdout",
     "output_type": "stream",
     "text": [
      "Generation 4700 | Best distance: 10.488357585449824\n",
      "Final best distance: 9.795476368578194\n",
      "Generation 4800 | Best distance: 11.061184773464264\n",
      "Generation 4800 | Best distance: 10.488357585449824Generation 4900 | Best distance: 11.027420042954605\n",
      "\n"
     ]
    },
    {
     "name": "stderr",
     "output_type": "stream",
     "text": [
      "[I 2024-06-08 11:10:16,226] Trial 10 finished with value: 11.027420042954605 and parameters: {'cantidad_poblacion': 64, 'elite_size': 15, 'mutation_rate': 0.31}. Best is trial 8 with value: 9.25048903760565.\n",
      "[I 2024-06-08 11:10:16,294] Trial 3 finished with value: 10.488357585449824 and parameters: {'cantidad_poblacion': 64, 'elite_size': 8, 'mutation_rate': 0.26}. Best is trial 8 with value: 9.25048903760565.\n"
     ]
    },
    {
     "name": "stdout",
     "output_type": "stream",
     "text": [
      "Generation 4900 | Best distance: 10.488357585449824\n",
      "Final best distance: 11.027420042954605\n",
      "Final best distance: 10.488357585449824\n"
     ]
    }
   ],
   "source": [
    "'''\n",
    "Experimento 0:\n",
    "Para un mismo conjunto de 100 ciudades se va a buscar los hyperparametros optimos: \n",
    "- cantidad_poblacion: trial.suggest_int(40, 80)\n",
    "- elite_size: trial.suggest_int(5, 30)\n",
    "- mutation_rate: trial.suggest_float(0.01, 0.31, step=0.05)\n",
    "'''\n",
    "# SELECCIONAR HYPERPARAMETROS OPTIMOS\n",
    "cantidad_generaciones = 5000\n",
    "\n",
    "# Creamos un optimizador con Optuna para correr pruebas en paralelo\n",
    "optimizer = GeneticAlgorithmOptimizer(cantidad_generaciones, cantidad_ciudades)\n",
    "study = optuna.create_study(direction='minimize')\n",
    "study.optimize(optimizer.objective, n_trials=25, n_jobs=-1)"
   ]
  },
  {
   "cell_type": "code",
   "execution_count": 11,
   "metadata": {},
   "outputs": [],
   "source": [
    "# Open the file in binary read mode\n",
    "with open('study_25.pkl', 'rb') as file: # study_10.pkl\n",
    "    # Deserialize the object from the file\n",
    "    study = pickle.load(file)\n",
    "    \n",
    "# # Open a file in binary write mode\n",
    "# with open('study_25.pkl', 'wb') as file:\n",
    "#     # Serialize and write the object to the file\n",
    "#     pickle.dump(study, file)"
   ]
  },
  {
   "cell_type": "code",
   "execution_count": 12,
   "metadata": {},
   "outputs": [
    {
     "name": "stdout",
     "output_type": "stream",
     "text": [
      "Best hyperparameters: {'cantidad_poblacion': 79, 'elite_size': 27, 'mutation_rate': 0.060000000000000005}\n",
      "Best objective value: 9.25048903760565\n"
     ]
    }
   ],
   "source": [
    "# Obtenemos los mejores hyperametros\n",
    "print(f\"Best hyperparameters: {study.best_params}\")\n",
    "print(f\"Best objective value: {study.best_value}\")"
   ]
  },
  {
   "cell_type": "code",
   "execution_count": 14,
   "metadata": {},
   "outputs": [
    {
     "data": {
      "application/vnd.plotly.v1+json": {
       "config": {
        "plotlyServerURL": "https://plot.ly"
       },
       "data": [
        {
         "cliponaxis": false,
         "hovertemplate": [
          "mutation_rate (FloatDistribution): 0.09543480420670268<extra></extra>",
          "elite_size (IntDistribution): 0.17759655071261457<extra></extra>",
          "cantidad_poblacion (IntDistribution): 0.7269686450806828<extra></extra>"
         ],
         "name": "Objective Value",
         "orientation": "h",
         "text": [
          "0.10",
          "0.18",
          "0.73"
         ],
         "textposition": "outside",
         "type": "bar",
         "x": [
          0.09543480420670268,
          0.17759655071261457,
          0.7269686450806828
         ],
         "y": [
          "mutation_rate",
          "elite_size",
          "cantidad_poblacion"
         ]
        }
       ],
       "layout": {
        "template": {
         "data": {
          "bar": [
           {
            "error_x": {
             "color": "#2a3f5f"
            },
            "error_y": {
             "color": "#2a3f5f"
            },
            "marker": {
             "line": {
              "color": "#E5ECF6",
              "width": 0.5
             },
             "pattern": {
              "fillmode": "overlay",
              "size": 10,
              "solidity": 0.2
             }
            },
            "type": "bar"
           }
          ],
          "barpolar": [
           {
            "marker": {
             "line": {
              "color": "#E5ECF6",
              "width": 0.5
             },
             "pattern": {
              "fillmode": "overlay",
              "size": 10,
              "solidity": 0.2
             }
            },
            "type": "barpolar"
           }
          ],
          "carpet": [
           {
            "aaxis": {
             "endlinecolor": "#2a3f5f",
             "gridcolor": "white",
             "linecolor": "white",
             "minorgridcolor": "white",
             "startlinecolor": "#2a3f5f"
            },
            "baxis": {
             "endlinecolor": "#2a3f5f",
             "gridcolor": "white",
             "linecolor": "white",
             "minorgridcolor": "white",
             "startlinecolor": "#2a3f5f"
            },
            "type": "carpet"
           }
          ],
          "choropleth": [
           {
            "colorbar": {
             "outlinewidth": 0,
             "ticks": ""
            },
            "type": "choropleth"
           }
          ],
          "contour": [
           {
            "colorbar": {
             "outlinewidth": 0,
             "ticks": ""
            },
            "colorscale": [
             [
              0,
              "#0d0887"
             ],
             [
              0.1111111111111111,
              "#46039f"
             ],
             [
              0.2222222222222222,
              "#7201a8"
             ],
             [
              0.3333333333333333,
              "#9c179e"
             ],
             [
              0.4444444444444444,
              "#bd3786"
             ],
             [
              0.5555555555555556,
              "#d8576b"
             ],
             [
              0.6666666666666666,
              "#ed7953"
             ],
             [
              0.7777777777777778,
              "#fb9f3a"
             ],
             [
              0.8888888888888888,
              "#fdca26"
             ],
             [
              1,
              "#f0f921"
             ]
            ],
            "type": "contour"
           }
          ],
          "contourcarpet": [
           {
            "colorbar": {
             "outlinewidth": 0,
             "ticks": ""
            },
            "type": "contourcarpet"
           }
          ],
          "heatmap": [
           {
            "colorbar": {
             "outlinewidth": 0,
             "ticks": ""
            },
            "colorscale": [
             [
              0,
              "#0d0887"
             ],
             [
              0.1111111111111111,
              "#46039f"
             ],
             [
              0.2222222222222222,
              "#7201a8"
             ],
             [
              0.3333333333333333,
              "#9c179e"
             ],
             [
              0.4444444444444444,
              "#bd3786"
             ],
             [
              0.5555555555555556,
              "#d8576b"
             ],
             [
              0.6666666666666666,
              "#ed7953"
             ],
             [
              0.7777777777777778,
              "#fb9f3a"
             ],
             [
              0.8888888888888888,
              "#fdca26"
             ],
             [
              1,
              "#f0f921"
             ]
            ],
            "type": "heatmap"
           }
          ],
          "heatmapgl": [
           {
            "colorbar": {
             "outlinewidth": 0,
             "ticks": ""
            },
            "colorscale": [
             [
              0,
              "#0d0887"
             ],
             [
              0.1111111111111111,
              "#46039f"
             ],
             [
              0.2222222222222222,
              "#7201a8"
             ],
             [
              0.3333333333333333,
              "#9c179e"
             ],
             [
              0.4444444444444444,
              "#bd3786"
             ],
             [
              0.5555555555555556,
              "#d8576b"
             ],
             [
              0.6666666666666666,
              "#ed7953"
             ],
             [
              0.7777777777777778,
              "#fb9f3a"
             ],
             [
              0.8888888888888888,
              "#fdca26"
             ],
             [
              1,
              "#f0f921"
             ]
            ],
            "type": "heatmapgl"
           }
          ],
          "histogram": [
           {
            "marker": {
             "pattern": {
              "fillmode": "overlay",
              "size": 10,
              "solidity": 0.2
             }
            },
            "type": "histogram"
           }
          ],
          "histogram2d": [
           {
            "colorbar": {
             "outlinewidth": 0,
             "ticks": ""
            },
            "colorscale": [
             [
              0,
              "#0d0887"
             ],
             [
              0.1111111111111111,
              "#46039f"
             ],
             [
              0.2222222222222222,
              "#7201a8"
             ],
             [
              0.3333333333333333,
              "#9c179e"
             ],
             [
              0.4444444444444444,
              "#bd3786"
             ],
             [
              0.5555555555555556,
              "#d8576b"
             ],
             [
              0.6666666666666666,
              "#ed7953"
             ],
             [
              0.7777777777777778,
              "#fb9f3a"
             ],
             [
              0.8888888888888888,
              "#fdca26"
             ],
             [
              1,
              "#f0f921"
             ]
            ],
            "type": "histogram2d"
           }
          ],
          "histogram2dcontour": [
           {
            "colorbar": {
             "outlinewidth": 0,
             "ticks": ""
            },
            "colorscale": [
             [
              0,
              "#0d0887"
             ],
             [
              0.1111111111111111,
              "#46039f"
             ],
             [
              0.2222222222222222,
              "#7201a8"
             ],
             [
              0.3333333333333333,
              "#9c179e"
             ],
             [
              0.4444444444444444,
              "#bd3786"
             ],
             [
              0.5555555555555556,
              "#d8576b"
             ],
             [
              0.6666666666666666,
              "#ed7953"
             ],
             [
              0.7777777777777778,
              "#fb9f3a"
             ],
             [
              0.8888888888888888,
              "#fdca26"
             ],
             [
              1,
              "#f0f921"
             ]
            ],
            "type": "histogram2dcontour"
           }
          ],
          "mesh3d": [
           {
            "colorbar": {
             "outlinewidth": 0,
             "ticks": ""
            },
            "type": "mesh3d"
           }
          ],
          "parcoords": [
           {
            "line": {
             "colorbar": {
              "outlinewidth": 0,
              "ticks": ""
             }
            },
            "type": "parcoords"
           }
          ],
          "pie": [
           {
            "automargin": true,
            "type": "pie"
           }
          ],
          "scatter": [
           {
            "fillpattern": {
             "fillmode": "overlay",
             "size": 10,
             "solidity": 0.2
            },
            "type": "scatter"
           }
          ],
          "scatter3d": [
           {
            "line": {
             "colorbar": {
              "outlinewidth": 0,
              "ticks": ""
             }
            },
            "marker": {
             "colorbar": {
              "outlinewidth": 0,
              "ticks": ""
             }
            },
            "type": "scatter3d"
           }
          ],
          "scattercarpet": [
           {
            "marker": {
             "colorbar": {
              "outlinewidth": 0,
              "ticks": ""
             }
            },
            "type": "scattercarpet"
           }
          ],
          "scattergeo": [
           {
            "marker": {
             "colorbar": {
              "outlinewidth": 0,
              "ticks": ""
             }
            },
            "type": "scattergeo"
           }
          ],
          "scattergl": [
           {
            "marker": {
             "colorbar": {
              "outlinewidth": 0,
              "ticks": ""
             }
            },
            "type": "scattergl"
           }
          ],
          "scattermapbox": [
           {
            "marker": {
             "colorbar": {
              "outlinewidth": 0,
              "ticks": ""
             }
            },
            "type": "scattermapbox"
           }
          ],
          "scatterpolar": [
           {
            "marker": {
             "colorbar": {
              "outlinewidth": 0,
              "ticks": ""
             }
            },
            "type": "scatterpolar"
           }
          ],
          "scatterpolargl": [
           {
            "marker": {
             "colorbar": {
              "outlinewidth": 0,
              "ticks": ""
             }
            },
            "type": "scatterpolargl"
           }
          ],
          "scatterternary": [
           {
            "marker": {
             "colorbar": {
              "outlinewidth": 0,
              "ticks": ""
             }
            },
            "type": "scatterternary"
           }
          ],
          "surface": [
           {
            "colorbar": {
             "outlinewidth": 0,
             "ticks": ""
            },
            "colorscale": [
             [
              0,
              "#0d0887"
             ],
             [
              0.1111111111111111,
              "#46039f"
             ],
             [
              0.2222222222222222,
              "#7201a8"
             ],
             [
              0.3333333333333333,
              "#9c179e"
             ],
             [
              0.4444444444444444,
              "#bd3786"
             ],
             [
              0.5555555555555556,
              "#d8576b"
             ],
             [
              0.6666666666666666,
              "#ed7953"
             ],
             [
              0.7777777777777778,
              "#fb9f3a"
             ],
             [
              0.8888888888888888,
              "#fdca26"
             ],
             [
              1,
              "#f0f921"
             ]
            ],
            "type": "surface"
           }
          ],
          "table": [
           {
            "cells": {
             "fill": {
              "color": "#EBF0F8"
             },
             "line": {
              "color": "white"
             }
            },
            "header": {
             "fill": {
              "color": "#C8D4E3"
             },
             "line": {
              "color": "white"
             }
            },
            "type": "table"
           }
          ]
         },
         "layout": {
          "annotationdefaults": {
           "arrowcolor": "#2a3f5f",
           "arrowhead": 0,
           "arrowwidth": 1
          },
          "autotypenumbers": "strict",
          "coloraxis": {
           "colorbar": {
            "outlinewidth": 0,
            "ticks": ""
           }
          },
          "colorscale": {
           "diverging": [
            [
             0,
             "#8e0152"
            ],
            [
             0.1,
             "#c51b7d"
            ],
            [
             0.2,
             "#de77ae"
            ],
            [
             0.3,
             "#f1b6da"
            ],
            [
             0.4,
             "#fde0ef"
            ],
            [
             0.5,
             "#f7f7f7"
            ],
            [
             0.6,
             "#e6f5d0"
            ],
            [
             0.7,
             "#b8e186"
            ],
            [
             0.8,
             "#7fbc41"
            ],
            [
             0.9,
             "#4d9221"
            ],
            [
             1,
             "#276419"
            ]
           ],
           "sequential": [
            [
             0,
             "#0d0887"
            ],
            [
             0.1111111111111111,
             "#46039f"
            ],
            [
             0.2222222222222222,
             "#7201a8"
            ],
            [
             0.3333333333333333,
             "#9c179e"
            ],
            [
             0.4444444444444444,
             "#bd3786"
            ],
            [
             0.5555555555555556,
             "#d8576b"
            ],
            [
             0.6666666666666666,
             "#ed7953"
            ],
            [
             0.7777777777777778,
             "#fb9f3a"
            ],
            [
             0.8888888888888888,
             "#fdca26"
            ],
            [
             1,
             "#f0f921"
            ]
           ],
           "sequentialminus": [
            [
             0,
             "#0d0887"
            ],
            [
             0.1111111111111111,
             "#46039f"
            ],
            [
             0.2222222222222222,
             "#7201a8"
            ],
            [
             0.3333333333333333,
             "#9c179e"
            ],
            [
             0.4444444444444444,
             "#bd3786"
            ],
            [
             0.5555555555555556,
             "#d8576b"
            ],
            [
             0.6666666666666666,
             "#ed7953"
            ],
            [
             0.7777777777777778,
             "#fb9f3a"
            ],
            [
             0.8888888888888888,
             "#fdca26"
            ],
            [
             1,
             "#f0f921"
            ]
           ]
          },
          "colorway": [
           "#636efa",
           "#EF553B",
           "#00cc96",
           "#ab63fa",
           "#FFA15A",
           "#19d3f3",
           "#FF6692",
           "#B6E880",
           "#FF97FF",
           "#FECB52"
          ],
          "font": {
           "color": "#2a3f5f"
          },
          "geo": {
           "bgcolor": "white",
           "lakecolor": "white",
           "landcolor": "#E5ECF6",
           "showlakes": true,
           "showland": true,
           "subunitcolor": "white"
          },
          "hoverlabel": {
           "align": "left"
          },
          "hovermode": "closest",
          "mapbox": {
           "style": "light"
          },
          "paper_bgcolor": "white",
          "plot_bgcolor": "#E5ECF6",
          "polar": {
           "angularaxis": {
            "gridcolor": "white",
            "linecolor": "white",
            "ticks": ""
           },
           "bgcolor": "#E5ECF6",
           "radialaxis": {
            "gridcolor": "white",
            "linecolor": "white",
            "ticks": ""
           }
          },
          "scene": {
           "xaxis": {
            "backgroundcolor": "#E5ECF6",
            "gridcolor": "white",
            "gridwidth": 2,
            "linecolor": "white",
            "showbackground": true,
            "ticks": "",
            "zerolinecolor": "white"
           },
           "yaxis": {
            "backgroundcolor": "#E5ECF6",
            "gridcolor": "white",
            "gridwidth": 2,
            "linecolor": "white",
            "showbackground": true,
            "ticks": "",
            "zerolinecolor": "white"
           },
           "zaxis": {
            "backgroundcolor": "#E5ECF6",
            "gridcolor": "white",
            "gridwidth": 2,
            "linecolor": "white",
            "showbackground": true,
            "ticks": "",
            "zerolinecolor": "white"
           }
          },
          "shapedefaults": {
           "line": {
            "color": "#2a3f5f"
           }
          },
          "ternary": {
           "aaxis": {
            "gridcolor": "white",
            "linecolor": "white",
            "ticks": ""
           },
           "baxis": {
            "gridcolor": "white",
            "linecolor": "white",
            "ticks": ""
           },
           "bgcolor": "#E5ECF6",
           "caxis": {
            "gridcolor": "white",
            "linecolor": "white",
            "ticks": ""
           }
          },
          "title": {
           "x": 0.05
          },
          "xaxis": {
           "automargin": true,
           "gridcolor": "white",
           "linecolor": "white",
           "ticks": "",
           "title": {
            "standoff": 15
           },
           "zerolinecolor": "white",
           "zerolinewidth": 2
          },
          "yaxis": {
           "automargin": true,
           "gridcolor": "white",
           "linecolor": "white",
           "ticks": "",
           "title": {
            "standoff": 15
           },
           "zerolinecolor": "white",
           "zerolinewidth": 2
          }
         }
        },
        "title": {
         "text": "Hyperparameter Importances"
        },
        "xaxis": {
         "title": {
          "text": "Hyperparameter Importance"
         }
        },
        "yaxis": {
         "title": {
          "text": "Hyperparameter"
         }
        }
       }
      }
     },
     "metadata": {},
     "output_type": "display_data"
    }
   ],
   "source": [
    "# Mostramos las gracias de optimizacion e imprtancia\n",
    "# optuna_history_fig = plot_optimization_history(study)\n",
    "optuna_importances_fig = plot_param_importances(study)\n",
    "# optuna_history_fig.show()\n",
    "optuna_importances_fig.show()"
   ]
  }
 ],
 "metadata": {
  "kernelspec": {
   "display_name": "cs_master",
   "language": "python",
   "name": "python3"
  },
  "language_info": {
   "codemirror_mode": {
    "name": "ipython",
    "version": 3
   },
   "file_extension": ".py",
   "mimetype": "text/x-python",
   "name": "python",
   "nbconvert_exporter": "python",
   "pygments_lexer": "ipython3",
   "version": "3.10.14"
  }
 },
 "nbformat": 4,
 "nbformat_minor": 2
}
